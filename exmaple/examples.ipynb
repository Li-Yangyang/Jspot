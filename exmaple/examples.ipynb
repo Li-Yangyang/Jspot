{
 "cells": [
  {
   "cell_type": "code",
   "execution_count": 1,
   "metadata": {},
   "outputs": [
    {
     "name": "stderr",
     "output_type": "stream",
     "text": [
      "┌ Info: Recompiling stale cache file /home/yangyangli/.julia/compiled/v1.2/Jspot/CFGeR.ji for Jspot [8573a212-7669-4580-92a2-bc18056681b9]\n",
      "└ @ Base loading.jl:1240\n",
      "WARNING: Method definition (::Type{Jspot.Diagram})(Float64, Float64, Float64) in module Jspot at /media/yangyangli/OS/yangyangli_private/Code/Jspot/Jspot/src/evolution.jl:4 overwritten at /media/yangyangli/OS/yangyangli_private/Code/Jspot/Jspot/src/evolution.jl:4.\n",
      "  ** incremental compilation may be fatally broken for this module **\n",
      "\n",
      "WARNING: Method definition (::Type{Jspot.Diagram})(Any, Any, Any) in module Jspot at /media/yangyangli/OS/yangyangli_private/Code/Jspot/Jspot/src/evolution.jl:4 overwritten at /media/yangyangli/OS/yangyangli_private/Code/Jspot/Jspot/src/evolution.jl:4.\n",
      "  ** incremental compilation may be fatally broken for this module **\n",
      "\n",
      "WARNING: Method definition (::Type{Jspot.Differential})(Float64, Float64) in module Jspot at /media/yangyangli/OS/yangyangli_private/Code/Jspot/Jspot/src/evolution.jl:10 overwritten at /media/yangyangli/OS/yangyangli_private/Code/Jspot/Jspot/src/evolution.jl:10.\n",
      "  ** incremental compilation may be fatally broken for this module **\n",
      "\n",
      "WARNING: Method definition (::Type{Jspot.Differential})(Any, Any) in module Jspot at /media/yangyangli/OS/yangyangli_private/Code/Jspot/Jspot/src/evolution.jl:10 overwritten at /media/yangyangli/OS/yangyangli_private/Code/Jspot/Jspot/src/evolution.jl:10.\n",
      "  ** incremental compilation may be fatally broken for this module **\n",
      "\n",
      "WARNING: Method definition sample_lat(Jspot.Diagram, Float64) in module Jspot at /media/yangyangli/OS/yangyangli_private/Code/Jspot/Jspot/src/evolution.jl:15 overwritten at /media/yangyangli/OS/yangyangli_private/Code/Jspot/Jspot/src/evolution.jl:15.\n",
      "  ** incremental compilation may be fatally broken for this module **\n",
      "\n",
      "WARNING: Method definition sample_lifetime(Float64) in module Jspot at /media/yangyangli/OS/yangyangli_private/Code/Jspot/Jspot/src/evolution.jl:28 overwritten at /media/yangyangli/OS/yangyangli_private/Code/Jspot/Jspot/src/evolution.jl:28.\n",
      "  ** incremental compilation may be fatally broken for this module **\n",
      "\n",
      "WARNING: Method definition sample_phase(Float64) in module Jspot at /media/yangyangli/OS/yangyangli_private/Code/Jspot/Jspot/src/evolution.jl:35 overwritten at /media/yangyangli/OS/yangyangli_private/Code/Jspot/Jspot/src/evolution.jl:35.\n",
      "  ** incremental compilation may be fatally broken for this module **\n",
      "\n"
     ]
    }
   ],
   "source": [
    "using Jspot"
   ]
  },
  {
   "cell_type": "markdown",
   "metadata": {},
   "source": [
    "# one spot session"
   ]
  },
  {
   "cell_type": "markdown",
   "metadata": {},
   "source": [
    "## one spot\n",
    "❌ spots evolution <br>\n",
    "❌ facula <br>\n",
    "❌ convection radial velocity <br>"
   ]
  },
  {
   "cell_type": "code",
   "execution_count": 2,
   "metadata": {},
   "outputs": [
    {
     "data": {
      "text/plain": [
       "Jspot.RotationSpot(1, 1.0, Number[25.05], Number[0.6], Number[1.0], 200.0, Number[1.2], [0.01], [1.0], [0.0], Number[2.515239170609039], Number[1.5707963267948966], Number[0.0], Number[20.0])"
      ]
     },
     "execution_count": 2,
     "metadata": {},
     "output_type": "execute_result"
    }
   ],
   "source": [
    "structs = conf_spotmodel(\"../test/samples/onespot_noevo_nofac_noconv.ini\")"
   ]
  },
  {
   "cell_type": "code",
   "execution_count": 3,
   "metadata": {},
   "outputs": [
    {
     "data": {
      "text/plain": [
       "2506-element Array{Float64,1}:\n",
       "    0.0\n",
       "    3.0\n",
       "    6.0\n",
       "    9.0\n",
       "   12.0\n",
       "   15.0\n",
       "   18.0\n",
       "   21.0\n",
       "   24.0\n",
       "   27.0\n",
       "   30.0\n",
       "   33.0\n",
       "   36.0\n",
       "    ⋮  \n",
       " 7482.0\n",
       " 7485.0\n",
       " 7488.0\n",
       " 7491.0\n",
       " 7494.0\n",
       " 7497.0\n",
       " 7500.0\n",
       " 7503.0\n",
       " 7506.0\n",
       " 7509.0\n",
       " 7512.0\n",
       " 7515.0"
      ]
     },
     "execution_count": 3,
     "metadata": {},
     "output_type": "execute_result"
    }
   ],
   "source": [
    "tmin = 0.0\n",
    "tmax = 25.05 * 300\n",
    "t = Array(tmin:3:tmax)"
   ]
  },
  {
   "cell_type": "code",
   "execution_count": 6,
   "metadata": {},
   "outputs": [
    {
     "data": {
      "text/plain": [
       "([0.0 0.0 … 0.0 0.0], [0.0 0.0 … 0.0 0.0], [0.0 0.0 … 0.0 0.0])"
      ]
     },
     "execution_count": 6,
     "metadata": {},
     "output_type": "execute_result"
    }
   ],
   "source": [
    "dF, dRV, BIS = simulation(structs;nper=10, comb=true)"
   ]
  },
  {
   "cell_type": "code",
   "execution_count": 9,
   "metadata": {},
   "outputs": [
    {
     "name": "stderr",
     "output_type": "stream",
     "text": [
      "┌ Info: Recompiling stale cache file /home/yangyangli/.julia/compiled/v1.2/PyPlot/oatAj.ji for PyPlot [d330b81b-6aea-500a-939a-2ce795aea3ee]\n",
      "└ @ Base loading.jl:1240\n"
     ]
    }
   ],
   "source": [
    "using PyPlot"
   ]
  },
  {
   "cell_type": "code",
   "execution_count": 4,
   "metadata": {},
   "outputs": [
    {
     "data": {
      "text/plain": [
       "10001-element Array{Float64,1}:\n",
       "   0.0    \n",
       "   0.02505\n",
       "   0.0501 \n",
       "   0.07515\n",
       "   0.1002 \n",
       "   0.12525\n",
       "   0.1503 \n",
       "   0.17535\n",
       "   0.2004 \n",
       "   0.22545\n",
       "   0.2505 \n",
       "   0.27555\n",
       "   0.3006 \n",
       "   ⋮      \n",
       " 250.22445\n",
       " 250.2495 \n",
       " 250.27455\n",
       " 250.2996 \n",
       " 250.32465\n",
       " 250.3497 \n",
       " 250.37475\n",
       " 250.3998 \n",
       " 250.42485\n",
       " 250.4499 \n",
       " 250.47495\n",
       " 250.5    "
      ]
     },
     "execution_count": 4,
     "metadata": {},
     "output_type": "execute_result"
    }
   ],
   "source": [
    "tmin = 0.0\n",
    "tmax = 25.05 * 10\n",
    "t = Array(tmin:25.05/1000:tmax)"
   ]
  },
  {
   "cell_type": "code",
   "execution_count": 9,
   "metadata": {},
   "outputs": [
    {
     "data": {
      "text/plain": [
       "10001-element Array{Float64,1}:\n",
       " 0.0\n",
       " 0.0\n",
       " 0.0\n",
       " 0.0\n",
       " 0.0\n",
       " 0.0\n",
       " 0.0\n",
       " 0.0\n",
       " 0.0\n",
       " 0.0\n",
       " 0.0\n",
       " 0.0\n",
       " 0.0\n",
       " ⋮  \n",
       " 0.0\n",
       " 0.0\n",
       " 0.0\n",
       " 0.0\n",
       " 0.0\n",
       " 0.0\n",
       " 0.0\n",
       " 0.0\n",
       " 0.0\n",
       " 0.0\n",
       " 0.0\n",
       " 0.0"
      ]
     },
     "execution_count": 9,
     "metadata": {},
     "output_type": "execute_result"
    }
   ],
   "source": [
    "vec(dF)"
   ]
  },
  {
   "cell_type": "code",
   "execution_count": 11,
   "metadata": {},
   "outputs": [
    {
     "name": "stderr",
     "output_type": "stream",
     "text": [
      "┌ Warning: `getindex(o::PyObject, s::Symbol)` is deprecated in favor of dot overloading (`getproperty`) so elements should now be accessed as e.g. `o.s` instead of `o[:s]`.\n",
      "│   caller = top-level scope at In[11]:3\n",
      "└ @ Core In[11]:3\n",
      "┌ Warning: `getindex(o::PyObject, s::Symbol)` is deprecated in favor of dot overloading (`getproperty`) so elements should now be accessed as e.g. `o.s` instead of `o[:s]`.\n",
      "│   caller = top-level scope at In[11]:5\n",
      "└ @ Core In[11]:5\n"
     ]
    },
    {
     "data": {
      "text/plain": [
       "PyObject Text(0.5, 23.52222222222222, 'time')"
      ]
     },
     "execution_count": 11,
     "metadata": {},
     "output_type": "execute_result"
    }
   ],
   "source": [
    "pygui(true)\n",
    "fig, ax = subplots(2,1, sharex = true)\n",
    "ax[1,1][:plot](t, transpose(dF))\n",
    "ax[1,1].set_ylabel(\"dF\")\n",
    "ax[2,1][:plot](t, transpose(dRV))\n",
    "ax[2,1].set_ylabel(\"dRV\")\n",
    "ax[2,1].set_xlabel(\"time\")"
   ]
  },
  {
   "cell_type": "markdown",
   "metadata": {},
   "source": [
    "## one spot \n",
    "❌ spots evolution <br>\n",
    "❌ facula <br>\n",
    "✅ convection: Q=5, vconv=200m/s <br>"
   ]
  },
  {
   "cell_type": "code",
   "execution_count": 14,
   "metadata": {},
   "outputs": [
    {
     "data": {
      "text/plain": [
       "Jspot.RotationSpot(1, 1.0, Number[25.05], Number[0.6], Number[0.2], 200.0, Number[0.0], [0.01], [1.0], [0.0], Number[0.4800413148613629], Number[1.5707963267948966], Number[0.0], Number[5.0])"
      ]
     },
     "execution_count": 14,
     "metadata": {},
     "output_type": "execute_result"
    }
   ],
   "source": [
    "structs = conf_spotmodel(\"../test/samples/onespot_noevo_nofac_conv.ini\")"
   ]
  },
  {
   "cell_type": "code",
   "execution_count": 15,
   "metadata": {},
   "outputs": [
    {
     "data": {
      "text/plain": [
       "([-0.7684287819410043 -0.7674995811258467 … -0.7693427437187617 -0.7684287819410052], [-50.71280888553497 -61.703790625696 … -39.69227471430327 -50.71280888552553], [-44.98103644661264 -54.549648299121216 … -35.32056721313985 -44.9810364466044])"
      ]
     },
     "execution_count": 15,
     "metadata": {},
     "output_type": "execute_result"
    }
   ],
   "source": [
    "dF, dRV, BIS = simulation(structs;nper=10, comb=true)"
   ]
  },
  {
   "cell_type": "code",
   "execution_count": 16,
   "metadata": {},
   "outputs": [
    {
     "name": "stderr",
     "output_type": "stream",
     "text": [
      "┌ Warning: `getindex(o::PyObject, s::Symbol)` is deprecated in favor of dot overloading (`getproperty`) so elements should now be accessed as e.g. `o.s` instead of `o[:s]`.\n",
      "│   caller = top-level scope at In[16]:2\n",
      "└ @ Core In[16]:2\n",
      "┌ Warning: `getindex(o::PyObject, s::Symbol)` is deprecated in favor of dot overloading (`getproperty`) so elements should now be accessed as e.g. `o.s` instead of `o[:s]`.\n",
      "│   caller = top-level scope at In[16]:4\n",
      "└ @ Core In[16]:4\n"
     ]
    },
    {
     "data": {
      "text/plain": [
       "PyObject Text(0.5, 23.52222222222222, 'time')"
      ]
     },
     "execution_count": 16,
     "metadata": {},
     "output_type": "execute_result"
    }
   ],
   "source": [
    "fig, ax = subplots(2,1, sharex = true)\n",
    "ax[1,1][:plot](t, transpose(dF))\n",
    "ax[1,1].set_ylabel(\"dF\")\n",
    "ax[2,1][:plot](t, transpose(dRV))\n",
    "ax[2,1].set_ylabel(\"dRV\")\n",
    "ax[2,1].set_xlabel(\"time\")"
   ]
  },
  {
   "cell_type": "markdown",
   "metadata": {},
   "source": [
    "## one spot (need to analyse if fac happens around spots)\n",
    "❌ spots evolution <br>\n",
    "✅ facula: cfac=2 <br>\n",
    "✅ convection: Q=5, vconv=200m/s <br>"
   ]
  },
  {
   "cell_type": "code",
   "execution_count": 10,
   "metadata": {},
   "outputs": [
    {
     "data": {
      "text/plain": [
       "Jspot.RotationSpot(1, 1.0, Number[25.05], Number[0.6], Number[0.2], 200.0, Number[2.0], [0.01], [1.0], [0.0], Number[3.4822860255789596], Number[1.5707963267948966], Number[0.0], Number[5.0])"
      ]
     },
     "execution_count": 10,
     "metadata": {},
     "output_type": "execute_result"
    }
   ],
   "source": [
    "structs = conf_spotmodel(\"../Jspot/test/samples/onespot_noevo_fac_conv.ini\")"
   ]
  },
  {
   "cell_type": "code",
   "execution_count": 11,
   "metadata": {},
   "outputs": [
    {
     "data": {
      "text/plain": [
       "([0.0 0.0 … 0.0 0.0], [0.0 0.0 … 0.0 0.0], [0.0 0.0 … 0.0 0.0])"
      ]
     },
     "execution_count": 11,
     "metadata": {},
     "output_type": "execute_result"
    }
   ],
   "source": [
    "dF, dRV, BIS = simulation(structs;nper=10, comb=true)"
   ]
  },
  {
   "cell_type": "code",
   "execution_count": 12,
   "metadata": {},
   "outputs": [
    {
     "data": {
      "image/png": "[encoded data removed]",
      "text/plain": [
       "Figure(PyObject <Figure size 640x480 with 2 Axes>)"
      ]
     },
     "metadata": {},
     "output_type": "display_data"
    },
    {
     "name": "stderr",
     "output_type": "stream",
     "text": [
      "┌ Warning: `getindex(o::PyObject, s::Symbol)` is deprecated in favor of dot overloading (`getproperty`) so elements should now be accessed as e.g. `o.s` instead of `o[:s]`.\n",
      "│   caller = top-level scope at In[12]:2\n",
      "└ @ Core In[12]:2\n",
      "┌ Warning: `getindex(o::PyObject, s::Symbol)` is deprecated in favor of dot overloading (`getproperty`) so elements should now be accessed as e.g. `o.s` instead of `o[:s]`.\n",
      "│   caller = top-level scope at In[12]:4\n",
      "└ @ Core In[12]:4\n"
     ]
    },
    {
     "data": {
      "text/plain": [
       "PyObject Text(0.5, 24.0, 'time')"
      ]
     },
     "execution_count": 12,
     "metadata": {},
     "output_type": "execute_result"
    }
   ],
   "source": [
    "fig, ax = subplots(2,1, sharex = true)\n",
    "ax[1,1][:plot](t, transpose(dF))\n",
    "ax[1,1].set_ylabel(\"dF\")\n",
    "ax[2,1][:plot](t, transpose(dRV))\n",
    "ax[2,1].set_ylabel(\"dRV\")\n",
    "ax[2,1].set_xlabel(\"time\")"
   ]
  },
  {
   "cell_type": "markdown",
   "metadata": {},
   "source": [
    "## one spot \n",
    "✅ spots evolution: diagram: init_lat = 40, cycle=2yrs; differential_rate = 0.185  <br>\n",
    "❌ facula <br>\n",
    "✅ convection: Q=5, vconv=200m/s <br>"
   ]
  },
  {
   "cell_type": "code",
   "execution_count": 8,
   "metadata": {},
   "outputs": [
    {
     "data": {
      "text/plain": [
       "3-element Array{Any,1}:\n",
       " Jspot.RotationSpot(1, 1.0, Number[25.05], Number[0.6], Number[0.2], 200.0, Number[0.0], [0.01], [1.0], [29.171243936286505], Number[6.184647263451476], Number[1.5707963267948966], Number[0.0], Number[10.0])\n",
       " Jspot.Diagram(0.0, 2.0, 40.0)                                                                                                                                                                                 \n",
       " Jspot.Differential(0.25082576076565216, 0.185)                                                                                                                                                                "
      ]
     },
     "execution_count": 8,
     "metadata": {},
     "output_type": "execute_result"
    }
   ],
   "source": [
    "structs = conf_spotmodel(\"../test/samples/onespot_evo_nofac_conv.ini\")"
   ]
  },
  {
   "cell_type": "code",
   "execution_count": 9,
   "metadata": {},
   "outputs": [
    {
     "data": {
      "text/plain": [
       "([0.0 0.0 … 0.0 0.0], [0.0 0.0 … 0.0 0.0], [0.0 0.0 … 0.0 0.0])"
      ]
     },
     "execution_count": 9,
     "metadata": {},
     "output_type": "execute_result"
    }
   ],
   "source": [
    "dF, dRV, BIS = simulation(structs[1], structs[2], structs[3];nper=10, comb=true)"
   ]
  },
  {
   "cell_type": "code",
   "execution_count": 12,
   "metadata": {},
   "outputs": [
    {
     "name": "stderr",
     "output_type": "stream",
     "text": [
      "┌ Warning: `getindex(o::PyObject, s::Symbol)` is deprecated in favor of dot overloading (`getproperty`) so elements should now be accessed as e.g. `o.s` instead of `o[:s]`.\n",
      "│   caller = top-level scope at In[12]:3\n",
      "└ @ Core In[12]:3\n",
      "┌ Warning: `getindex(o::PyObject, s::Symbol)` is deprecated in favor of dot overloading (`getproperty`) so elements should now be accessed as e.g. `o.s` instead of `o[:s]`.\n",
      "│   caller = top-level scope at In[12]:5\n",
      "└ @ Core In[12]:5\n"
     ]
    },
    {
     "data": {
      "text/plain": [
       "PyObject Text(0.5, 23.52222222222222, 'time')"
      ]
     },
     "execution_count": 12,
     "metadata": {},
     "output_type": "execute_result"
    }
   ],
   "source": [
    "pygui(true)\n",
    "fig, ax = subplots(2,1, sharex = true)\n",
    "ax[1,1][:plot](t, transpose(dF))\n",
    "ax[1,1].set_ylabel(\"dF\")\n",
    "ax[2,1][:plot](t, transpose(dRV))\n",
    "ax[2,1].set_ylabel(\"dRV\")\n",
    "ax[2,1].set_xlabel(\"time\")"
   ]
  },
  {
   "cell_type": "markdown",
   "metadata": {},
   "source": [
    "spot decays away"
   ]
  },
  {
   "cell_type": "markdown",
   "metadata": {},
   "source": [
    "# multispots sessions (nspots=100)"
   ]
  },
  {
   "cell_type": "code",
   "execution_count": null,
   "metadata": {},
   "outputs": [],
   "source": [
    "✅ spots evolution: diagram: init_lat = 40, cycle=2yrs; differential_rate = 0.185  <br>\n",
    "❌ facula <br>\n",
    "✅ convection: Q=5, vconv=200m/s <br>"
   ]
  },
  {
   "cell_type": "code",
   "execution_count": 19,
   "metadata": {},
   "outputs": [
    {
     "data": {
      "text/plain": [
       "3-element Array{Any,1}:\n",
       " Jspot.RotationSpot(100, 1.0, Number[25.05, 25.05, 25.05, 25.05, 25.05, 25.05, 25.05, 25.05, 25.05, 25.05  …  25.05, 25.05, 25.05, 25.05, 25.05, 25.05, 25.05, 25.05, 25.05, 25.05], Number[0.6, 0.6, 0.6, 0.6, 0.6, 0.6, 0.6, 0.6, 0.6, 0.6  …  0.6, 0.6, 0.6, 0.6, 0.6, 0.6, 0.6, 0.6, 0.6, 0.6], Number[0.2, 0.2, 0.2, 0.2, 0.2, 0.2, 0.2, 0.2, 0.2, 0.2  …  0.2, 0.2, 0.2, 0.2, 0.2, 0.2, 0.2, 0.2, 0.2, 0.2], 200.0, Number[0.0, 0.0, 0.0, 0.0, 0.0, 0.0, 0.0, 0.0, 0.0, 0.0  …  0.0, 0.0, 0.0, 0.0, 0.0, 0.0, 0.0, 0.0, 0.0, 0.0], [0.01, 0.01, 0.01, 0.01, 0.01, 0.01, 0.01, 0.01, 0.01, 0.01  …  0.01, 0.01, 0.01, 0.01, 0.01, 0.01, 0.01, 0.01, 0.01, 0.01], [1.0, 1.0, 1.0, 1.0, 1.0, 1.0, 1.0, 1.0, 1.0, 1.0  …  1.0, 1.0, 1.0, 1.0, 1.0, 1.0, 1.0, 1.0, 1.0, 1.0], [28.521950614102504, 49.70307701119578, 25.379557455783715, 26.223566579327617, 28.53580260538343, 52.98474346680245, 51.062258495761796, 26.596982435128243, 26.550577020131495, 40.2038236033775  …  40.1398805888283, 40.52972063990558, 69.8520084931037, 33.75684633768275, 42.965319433001916, 36.984477042204915, 66.29444348560999, 43.37029132577585, 29.621017763394555, 47.61015317439583], Number[0.35272505334533305, 5.833851309530931, 5.637589361006496, 0.8892581321351037, 2.2661496854241867, 6.043422896630445, 4.166468817671061, 2.947880706674635, 0.0039186802706570175, 1.9601112892887937  …  6.017261768317336, 3.614662370040633, 5.938142690356308, 1.9622209008622027, 1.5602309600304771, 5.372142375069805, 5.508700915813403, 4.437501354789287, 0.35507915050890976, 1.803962324901767], Number[1.5707963267948966, 1.5707963267948966, 1.5707963267948966, 1.5707963267948966, 1.5707963267948966, 1.5707963267948966, 1.5707963267948966, 1.5707963267948966, 1.5707963267948966, 1.5707963267948966  …  1.5707963267948966, 1.5707963267948966, 1.5707963267948966, 1.5707963267948966, 1.5707963267948966, 1.5707963267948966, 1.5707963267948966, 1.5707963267948966, 1.5707963267948966, 1.5707963267948966], Number[0.0, 0.0, 0.0, 0.0, 0.0, 0.0, 0.0, 0.0, 0.0, 0.0  …  0.0, 0.0, 0.0, 0.0, 0.0, 0.0, 0.0, 0.0, 0.0, 0.0], Number[10.0, 10.0, 10.0, 10.0, 10.0, 10.0, 10.0, 10.0, 10.0, 10.0  …  10.0, 10.0, 10.0, 10.0, 10.0, 10.0, 10.0, 10.0, 10.0, 10.0])\n",
       " Jspot.Diagram(0.0, 80.0, 40.0)                                                                                                                                                                                                                                                                                                                                                                                                                                                                                                                                                                                                                                                                                                                                                                                                                                                                                                                                                                                                                                                                                                                                                                                                                                                                                                                                                                                                                                                                                                                                                                                                                                                                                                                                                                                                                                                                                                                                                                                                                                                                                                                                                                                                                                                       \n",
       " Jspot.Differential(0.25082576076565216, 0.185)                                                                                                                                                                                                                                                                                                                                                                                                                                                                                                                                                                                                                                                                                                                                                                                                                                                                                                                                                                                                                                                                                                                                                                                                                                                                                                                                                                                                                                                                                                                                                                                                                                                                                                                                                                                                                                                                                                                                                                                                                                                                                                                                                                                                                                       "
      ]
     },
     "execution_count": 19,
     "metadata": {},
     "output_type": "execute_result"
    }
   ],
   "source": [
    "structs = conf_spotmodel(\"../test/samples/multispots_evo_nofac_conv.ini\")"
   ]
  },
  {
   "cell_type": "code",
   "execution_count": 20,
   "metadata": {},
   "outputs": [
    {
     "data": {
      "text/plain": [
       "([-0.006020148343419151 -0.005985145955976778 … -0.012112024238399344 -0.012089592035801585], [2.7135758779172003 2.6228991038891887 … 20.560293726555322 20.39764051255331], [2.1220479700911694 2.0254557852093384 … 20.450815186178293 20.277627639300558])"
      ]
     },
     "execution_count": 20,
     "metadata": {},
     "output_type": "execute_result"
    }
   ],
   "source": [
    "dF, dRV, BIS = simulation(structs[1], structs[2], structs[3];nper=10, comb=true)"
   ]
  },
  {
   "cell_type": "code",
   "execution_count": 21,
   "metadata": {},
   "outputs": [
    {
     "name": "stderr",
     "output_type": "stream",
     "text": [
      "┌ Warning: `getindex(o::PyObject, s::Symbol)` is deprecated in favor of dot overloading (`getproperty`) so elements should now be accessed as e.g. `o.s` instead of `o[:s]`.\n",
      "│   caller = top-level scope at In[21]:2\n",
      "└ @ Core In[21]:2\n",
      "┌ Warning: `getindex(o::PyObject, s::Symbol)` is deprecated in favor of dot overloading (`getproperty`) so elements should now be accessed as e.g. `o.s` instead of `o[:s]`.\n",
      "│   caller = top-level scope at In[21]:4\n",
      "└ @ Core In[21]:4\n"
     ]
    },
    {
     "data": {
      "text/plain": [
       "PyObject Text(0.5, 23.52222222222222, 'time')"
      ]
     },
     "execution_count": 21,
     "metadata": {},
     "output_type": "execute_result"
    }
   ],
   "source": [
    "fig, ax = subplots(2,1, sharex = true)\n",
    "ax[1,1][:plot](t, transpose(dF))\n",
    "ax[1,1].set_ylabel(\"dF\")\n",
    "ax[2,1][:plot](t, transpose(dRV))\n",
    "ax[2,1].set_ylabel(\"dRV\")\n",
    "ax[2,1].set_xlabel(\"time\")"
   ]
  },
  {
   "cell_type": "markdown",
   "metadata": {},
   "source": [
    "# Group creation with the magnetic cycle (Dumusque et al. 2011c) (multispots)"
   ]
  },
  {
   "cell_type": "markdown",
   "metadata": {},
   "source": [
    " form in group (same property, geometrical and lifetime): <br>\n",
    "✅the appearance of spot group is relavant with the magnetic cycle <br>\n",
    "✅the filling factors of spots are strictly linear with their lifetime <br>\n",
    "✅spots linearly grow and die down <br>\n",
    "✅differential rotation <br>"
   ]
  },
  {
   "cell_type": "code",
   "execution_count": 6,
   "metadata": {},
   "outputs": [
    {
     "data": {
      "text/plain": [
       "2-element Array{Any,1}:\n",
       " Jspot.RotationSpot(150, 1.0, Number[25.05, 25.05, 25.05, 25.05, 25.05, 25.05, 25.05, 25.05, 25.05, 25.05  …  25.05, 25.05, 25.05, 25.05, 25.05, 25.05, 25.05, 25.05, 25.05, 25.05], Number[0.6, 0.6, 0.6, 0.6, 0.6, 0.6, 0.6, 0.6, 0.6, 0.6  …  0.6, 0.6, 0.6, 0.6, 0.6, 0.6, 0.6, 0.6, 0.6, 0.6], Number[0.2, 0.2, 0.2, 0.2, 0.2, 0.2, 0.2, 0.2, 0.2, 0.2  …  0.2, 0.2, 0.2, 0.2, 0.2, 0.2, 0.2, 0.2, 0.2, 0.2], 300.0, Number[5.0, 5.0, 5.0, 5.0, 5.0, 5.0, 5.0, 5.0, 5.0, 5.0  …  5.0, 5.0, 5.0, 5.0, 5.0, 5.0, 5.0, 5.0, 5.0, 5.0], [7.603889417912921e-5, 0.00024782259306875445, 0.0008924278935091188, 0.0005655450899706107, 0.00011544267131740588, 0.00019427168073838497, 7.97958789581972e-5, 0.0037368939358916535, 0.00010720840526422202, 0.00012292972373138139  …  0.0005926698748333081, 1.719562135335362e-5, 0.0006726880716594198, 0.0008861653349520354, 7.713722736989105e-5, 0.0001306586235588413, 0.00018570826362495238, 0.000919461570574623, 0.00012028592077596015, 0.0008160688660549031], [0.2534629805970974, 0.8260753102291815, 2.974759645030396, 1.8851502999020353, 0.38480890439135285, 0.6475722691279499, 0.26598626319399066, 12.456313119638844, 0.44066135088074004, 0.8262657457712712  …  251.54236624945278, 249.70741873785295, 251.8923935722065, 252.77058444984857, 250.15712409124143, 250.4188287452046, 250.68562754542498, 253.2980719019239, 250.7174530692617, 253.12002955352483], [0.7603889417912921, 2.4782259306875445, 8.924278935091188, 5.655450899706106, 1.1544267131740586, 1.9427168073838497, 0.797958789581972, 37.368939358916535, 1.0720840526422202, 1.2292972373138138  …  5.926698748333081, 0.17195621353353618, 6.726880716594198, 8.861653349520353, 0.7713722736989105, 1.306586235588413, 1.8570826362495236, 9.19461570574623, 1.2028592077596014, 8.160688660549031], Number[1.364858847338576, 4.401130165774725, 3.1948244531207246, 1.5049194812477031, -0.1061937338368032, 2.9932098044771513, 4.403028856789585, -0.246047438803097, 1.790661965235239, 1.7696113525090442  …  4.805452180750041, 0.3714216454889855, 1.4377451090209428, -0.19813578025228307, 3.3277089437127443, 2.844886944458111, 0.007860864150546721, 1.9210696815793857, 1.5987796264263257, 1.1700311003359283], Number[1.5707963267948966, 1.5707963267948966, 1.5707963267948966, 1.5707963267948966, 1.5707963267948966, 1.5707963267948966, 1.5707963267948966, 1.5707963267948966, 1.5707963267948966, 1.5707963267948966  …  1.5707963267948966, 1.5707963267948966, 1.5707963267948966, 1.5707963267948966, 1.5707963267948966, 1.5707963267948966, 1.5707963267948966, 1.5707963267948966, 1.5707963267948966, 1.5707963267948966], Number[-0.009654001635585434, -0.10190162937762412, 0.04239493384794698, -0.010904815782493608, 0.014359279509640818, 0.005420745273637247, -0.06378631712674751, 0.025922537620118962, -0.14733515630731658, -0.05959636796642289  …  -0.4481240319303281, 0.4018327725747803, -0.49171764386614214, 0.4985738355742467, 0.468837977186038, 0.5706401647285954, 0.4389286731848182, -0.4231848500779236, -0.47059998757674243, -0.4941762074999933], Number[20.0, 20.0, 20.0, 20.0, 20.0, 20.0, 20.0, 20.0, 20.0, 20.0  …  20.0, 20.0, 20.0, 20.0, 20.0, 20.0, 20.0, 20.0, 20.0, 20.0])\n",
       " Jspot.Differential(0.25082576076565216, 0.185)                                                                                                                                                                                                                                                                                                                                                                                                                                                                                                                                                                                                                                                                                                                                                                                                                                                                                                                                                                                                                                                                                                                                                                                                                                                                                                                                                                                                                                                                                                                                                                                                                                                                                                                                                                                                                                                                                                                                                                                                                                                                                                                                                                                                                                                                                                                                                                                                                                                                                                                                                                                                                                                                                                                                                                                                                                                                                                                                                                                                                                                                                                                                                                                                                                                        "
      ]
     },
     "execution_count": 6,
     "metadata": {},
     "output_type": "execute_result"
    }
   ],
   "source": [
    "structs = conf_spotmodel(\"../test/samples/sun.ini\", t)"
   ]
  },
  {
   "cell_type": "code",
   "execution_count": 7,
   "metadata": {},
   "outputs": [
    {
     "data": {
      "text/plain": [
       "([1.1118758065257048e-18 0.00017089686437323903 … 0.7892229941504637 0.7923820177809067], [9.152600855482359e-15 0.07608559780370278 … 2831.9302958565963 2831.5708615404137], [8.876949503676591e-15 0.21858091478902664 … 2036.6090857627714 2032.8638349028631])"
      ]
     },
     "execution_count": 7,
     "metadata": {},
     "output_type": "execute_result"
    }
   ],
   "source": [
    "dF, dRV, BIS = simulation(structs[1], structs[2], t;comb=true)"
   ]
  },
  {
   "cell_type": "code",
   "execution_count": 10,
   "metadata": {
    "scrolled": true
   },
   "outputs": [
    {
     "name": "stderr",
     "output_type": "stream",
     "text": [
      "┌ Warning: `getindex(o::PyObject, s::Symbol)` is deprecated in favor of dot overloading (`getproperty`) so elements should now be accessed as e.g. `o.s` instead of `o[:s]`.\n",
      "│   caller = top-level scope at In[10]:3\n",
      "└ @ Core In[10]:3\n",
      "┌ Warning: `getindex(o::PyObject, s::Symbol)` is deprecated in favor of dot overloading (`getproperty`) so elements should now be accessed as e.g. `o.s` instead of `o[:s]`.\n",
      "│   caller = top-level scope at In[10]:5\n",
      "└ @ Core In[10]:5\n"
     ]
    },
    {
     "data": {
      "text/plain": [
       "PyObject Text(0.5, 23.52222222222222, 'time')"
      ]
     },
     "execution_count": 10,
     "metadata": {},
     "output_type": "execute_result"
    }
   ],
   "source": [
    "pygui(true)\n",
    "fig, ax = subplots(2,1, sharex = true)\n",
    "ax[1,1][:plot](t, transpose(dF))\n",
    "ax[1,1].set_ylabel(\"dF\")\n",
    "ax[2,1][:plot](t, transpose(dRV))\n",
    "ax[2,1].set_ylabel(\"dRV\")\n",
    "ax[2,1].set_xlabel(\"time\")"
   ]
  },
  {
   "cell_type": "code",
   "execution_count": 34,
   "metadata": {},
   "outputs": [],
   "source": [
    "fig.savefig(\"sun.png\")"
   ]
  },
  {
   "cell_type": "code",
   "execution_count": 18,
   "metadata": {},
   "outputs": [
    {
     "data": {
      "text/plain": [
       "12776-element Array{Number,1}:\n",
       " 25.269588656969116\n",
       " 25.4377217460955  \n",
       " 25.52026129144462 \n",
       " 25.304029081578097\n",
       " 25.31359988717506 \n",
       " 25.44216809802837 \n",
       " 25.374383692631675\n",
       " 25.57226308535424 \n",
       " 25.461160850164866\n",
       " 25.357874966880136\n",
       " 25.504181643676745\n",
       " 25.321446238432227\n",
       " 25.498174048113015\n",
       "  ⋮                \n",
       " 25.20365919147464 \n",
       " 25.145609793540576\n",
       " 25.179353921727913\n",
       " 25.05928985095383 \n",
       " 25.059348503880152\n",
       " 25.07310669539561 \n",
       " 25.100420872387947\n",
       " 25.120993236178123\n",
       " 25.10869227014815 \n",
       " 25.085478689187205\n",
       " 25.17356823807858 \n",
       " 25.129845511772494"
      ]
     },
     "execution_count": 18,
     "metadata": {},
     "output_type": "execute_result"
    }
   ],
   "source": [
    "structs[1].period"
   ]
  },
  {
   "cell_type": "code",
   "execution_count": 19,
   "metadata": {},
   "outputs": [
    {
     "data": {
      "text/plain": [
       "12776-element Array{Float64,1}:\n",
       " 0.0052585219534684036 \n",
       " 2.2249049585793184e-5 \n",
       " 0.0009334375435854574 \n",
       " 2.6894253070526842e-5 \n",
       " 0.0001004677358120139 \n",
       " 9.060139036938797e-5  \n",
       " 4.941720357028249e-5  \n",
       " 0.0006315992585676764 \n",
       " 0.00011137709358926287\n",
       " 0.00011556746184299617\n",
       " 0.0007375188938117899 \n",
       " 0.00010574674682158352\n",
       " 0.000804439356138705  \n",
       " ⋮                     \n",
       " 0.0001602113028299416 \n",
       " 0.0005313622178066638 \n",
       " 0.00018200737544281966\n",
       " 0.0006715826107237933 \n",
       " 0.002182896124169115  \n",
       " 0.0001521858567992617 \n",
       " 8.017122556610995e-5  \n",
       " 0.0006765706237172586 \n",
       " 0.0004922293116476234 \n",
       " 0.0001444543262828302 \n",
       " 0.001086244882458589  \n",
       " 0.0001301095190500749 "
      ]
     },
     "execution_count": 19,
     "metadata": {},
     "output_type": "execute_result"
    }
   ],
   "source": [
    "structs[1].amax"
   ]
  },
  {
   "cell_type": "code",
   "execution_count": 20,
   "metadata": {},
   "outputs": [
    {
     "data": {
      "text/plain": [
       "area (generic function with 1 method)"
      ]
     },
     "execution_count": 20,
     "metadata": {},
     "output_type": "execute_result"
    }
   ],
   "source": [
    "function area(pk::Float64, amax::Float64, lifetime::Float64, t::Array{Float64,1})\n",
    "    area = ones(size(t)[1]) .* amax\n",
    "    tt = t .- pk\n",
    "    l = tt .< 0\n",
    "    area[l] .*= (3 * amax / lifetime) .* tt[l] .+ amax\n",
    "    l = tt .>= 0\n",
    "    area[l] .*= (-3 / 2 * amax / lifetime) .* tt[l] .+ amax\n",
    "    l = area .< 0\n",
    "    area[l] .= 0\n",
    "    return area\n",
    "end"
   ]
  },
  {
   "cell_type": "code",
   "execution_count": 28,
   "metadata": {},
   "outputs": [],
   "source": [
    "amaxtot = zeros(length(t))\n",
    "for i in 1:1:length(structs[1].amax)\n",
    "    amaxtot .+= area(structs[1].pk[i], structs[1].amax[i], structs[1].decay[i], t)\n",
    "end"
   ]
  },
  {
   "cell_type": "code",
   "execution_count": 35,
   "metadata": {},
   "outputs": [
    {
     "name": "stderr",
     "output_type": "stream",
     "text": [
      "┌ Warning: `getindex(o::PyObject, s::Symbol)` is deprecated in favor of dot overloading (`getproperty`) so elements should now be accessed as e.g. `o.s` instead of `o[:s]`.\n",
      "│   caller = top-level scope at In[35]:2\n",
      "└ @ Core In[35]:2\n",
      "┌ Warning: `getindex(o::PyObject, s::Symbol)` is deprecated in favor of dot overloading (`getproperty`) so elements should now be accessed as e.g. `o.s` instead of `o[:s]`.\n",
      "│   caller = top-level scope at In[35]:4\n",
      "└ @ Core In[35]:4\n"
     ]
    },
    {
     "data": {
      "text/plain": [
       "PyObject Text(0.5, 23.52222222222222, 'time')"
      ]
     },
     "execution_count": 35,
     "metadata": {},
     "output_type": "execute_result"
    }
   ],
   "source": [
    "fig, ax = subplots(2,1, sharex = true)\n",
    "ax[1,1][:plot](t, amaxtot) \n",
    "ax[1,1].set_ylabel(\"filling_factor\")\n",
    "ax[2,1][:scatter](structs[1].pk, structs[1].lat, marker=\".\")\n",
    "ax[2,1].set_ylabel(\"initial_lat\")\n",
    "ax[2,1].set_xlabel(\"time\")"
   ]
  },
  {
   "cell_type": "code",
   "execution_count": 36,
   "metadata": {},
   "outputs": [],
   "source": [
    "fig.savefig(\"sun_evolution_pattern.png\")"
   ]
  },
  {
   "cell_type": "code",
   "execution_count": null,
   "metadata": {},
   "outputs": [],
   "source": []
  }
 ],
 "metadata": {
  "kernelspec": {
   "display_name": "Julia 1.2.0",
   "language": "julia",
   "name": "julia-1.2"
  },
  "language_info": {
   "file_extension": ".jl",
   "mimetype": "application/julia",
   "name": "julia",
   "version": "1.2.0"
  }
 },
 "nbformat": 4,
 "nbformat_minor": 2
}
