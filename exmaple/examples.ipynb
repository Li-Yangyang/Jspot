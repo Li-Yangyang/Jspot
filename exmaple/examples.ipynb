{
 "cells": [
  {
   "cell_type": "code",
   "execution_count": 1,
   "metadata": {},
   "outputs": [
    {
     "name": "stderr",
     "output_type": "stream",
     "text": [
      "┌ Info: Recompiling stale cache file /home/yangyangli/.julia/compiled/v1.2/Jspot/CFGeR.ji for Jspot [8573a212-7669-4580-92a2-bc18056681b9]\n",
      "└ @ Base loading.jl:1240\n",
      "WARNING: Method definition (::Type{Jspot.Diagram})(Float64, Float64, Float64) in module Jspot at /media/yangyangli/OS/yangyangli_private/Code/Jspot/Jspot/src/evolution.jl:4 overwritten at /media/yangyangli/OS/yangyangli_private/Code/Jspot/Jspot/src/evolution.jl:4.\n",
      "  ** incremental compilation may be fatally broken for this module **\n",
      "\n",
      "WARNING: Method definition (::Type{Jspot.Diagram})(Any, Any, Any) in module Jspot at /media/yangyangli/OS/yangyangli_private/Code/Jspot/Jspot/src/evolution.jl:4 overwritten at /media/yangyangli/OS/yangyangli_private/Code/Jspot/Jspot/src/evolution.jl:4.\n",
      "  ** incremental compilation may be fatally broken for this module **\n",
      "\n",
      "WARNING: Method definition (::Type{Jspot.Differential})(Float64, Float64) in module Jspot at /media/yangyangli/OS/yangyangli_private/Code/Jspot/Jspot/src/evolution.jl:10 overwritten at /media/yangyangli/OS/yangyangli_private/Code/Jspot/Jspot/src/evolution.jl:10.\n",
      "  ** incremental compilation may be fatally broken for this module **\n",
      "\n",
      "WARNING: Method definition (::Type{Jspot.Differential})(Any, Any) in module Jspot at /media/yangyangli/OS/yangyangli_private/Code/Jspot/Jspot/src/evolution.jl:10 overwritten at /media/yangyangli/OS/yangyangli_private/Code/Jspot/Jspot/src/evolution.jl:10.\n",
      "  ** incremental compilation may be fatally broken for this module **\n",
      "\n",
      "WARNING: Method definition sample_lat(Jspot.Diagram, Float64) in module Jspot at /media/yangyangli/OS/yangyangli_private/Code/Jspot/Jspot/src/evolution.jl:15 overwritten at /media/yangyangli/OS/yangyangli_private/Code/Jspot/Jspot/src/evolution.jl:15.\n",
      "  ** incremental compilation may be fatally broken for this module **\n",
      "\n",
      "WARNING: Method definition sample_lifetime(Float64) in module Jspot at /media/yangyangli/OS/yangyangli_private/Code/Jspot/Jspot/src/evolution.jl:28 overwritten at /media/yangyangli/OS/yangyangli_private/Code/Jspot/Jspot/src/evolution.jl:28.\n",
      "  ** incremental compilation may be fatally broken for this module **\n",
      "\n",
      "WARNING: Method definition sample_phase(Float64) in module Jspot at /media/yangyangli/OS/yangyangli_private/Code/Jspot/Jspot/src/evolution.jl:35 overwritten at /media/yangyangli/OS/yangyangli_private/Code/Jspot/Jspot/src/evolution.jl:35.\n",
      "  ** incremental compilation may be fatally broken for this module **\n",
      "\n"
     ]
    }
   ],
   "source": [
    "using Jspot"
   ]
  },
  {
   "cell_type": "markdown",
   "metadata": {},
   "source": [
    "# one spot session"
   ]
  },
  {
   "cell_type": "markdown",
   "metadata": {},
   "source": [
    "## one spot\n",
    "❌ spots evolution <br>\n",
    "❌ facula <br>\n",
    "❌ convection radial velocity <br>"
   ]
  },
  {
   "cell_type": "code",
   "execution_count": 22,
   "metadata": {},
   "outputs": [
    {
     "data": {
      "text/plain": [
       "Jspot.RotationSpot(1, 1.0, Number[25.05], Number[0.6], Number[0.2], 200.0, Number[0.0], [0.01], [1.0], [0.0], Number[6.212998799225886], Number[1.5707963267948966], Number[0.0], Number[0.0])"
      ]
     },
     "execution_count": 22,
     "metadata": {},
     "output_type": "execute_result"
    }
   ],
   "source": [
    "structs = conf_spotmodel(\"../test/samples/onespot_noevo_nofac_noconv.ini\")"
   ]
  },
  {
   "cell_type": "code",
   "execution_count": 23,
   "metadata": {},
   "outputs": [
    {
     "data": {
      "text/plain": [
       "2506-element Array{Float64,1}:\n",
       "    0.0\n",
       "    3.0\n",
       "    6.0\n",
       "    9.0\n",
       "   12.0\n",
       "   15.0\n",
       "   18.0\n",
       "   21.0\n",
       "   24.0\n",
       "   27.0\n",
       "   30.0\n",
       "   33.0\n",
       "   36.0\n",
       "    ⋮  \n",
       " 7482.0\n",
       " 7485.0\n",
       " 7488.0\n",
       " 7491.0\n",
       " 7494.0\n",
       " 7497.0\n",
       " 7500.0\n",
       " 7503.0\n",
       " 7506.0\n",
       " 7509.0\n",
       " 7512.0\n",
       " 7515.0"
      ]
     },
     "execution_count": 23,
     "metadata": {},
     "output_type": "execute_result"
    }
   ],
   "source": [
    "tmin = 0.0\n",
    "tmax = 25.05 * 300\n",
    "t = Array(tmin:3:tmax)"
   ]
  },
  {
   "cell_type": "code",
   "execution_count": 24,
   "metadata": {},
   "outputs": [
    {
     "data": {
      "text/plain": [
       "([-0.7994782684174476 -0.7995696427800105 … -0.7993776113018738 -0.7994782684174476], [115.6950260309132 105.36469829343513 … 126.01695936983974 115.69502603091722], [115.41017770442862 105.14963602852102 … 125.64868961347251 115.41017770443261])"
      ]
     },
     "execution_count": 24,
     "metadata": {},
     "output_type": "execute_result"
    }
   ],
   "source": [
    "dF, dRV, BIS = simulation(structs;nper=10, comb=true)"
   ]
  },
  {
   "cell_type": "code",
   "execution_count": 18,
   "metadata": {},
   "outputs": [],
   "source": [
    "using PyPlot"
   ]
  },
  {
   "cell_type": "code",
   "execution_count": 25,
   "metadata": {},
   "outputs": [
    {
     "data": {
      "text/plain": [
       "10001-element Array{Float64,1}:\n",
       "   0.0    \n",
       "   0.02505\n",
       "   0.0501 \n",
       "   0.07515\n",
       "   0.1002 \n",
       "   0.12525\n",
       "   0.1503 \n",
       "   0.17535\n",
       "   0.2004 \n",
       "   0.22545\n",
       "   0.2505 \n",
       "   0.27555\n",
       "   0.3006 \n",
       "   ⋮      \n",
       " 250.22445\n",
       " 250.2495 \n",
       " 250.27455\n",
       " 250.2996 \n",
       " 250.32465\n",
       " 250.3497 \n",
       " 250.37475\n",
       " 250.3998 \n",
       " 250.42485\n",
       " 250.4499 \n",
       " 250.47495\n",
       " 250.5    "
      ]
     },
     "execution_count": 25,
     "metadata": {},
     "output_type": "execute_result"
    }
   ],
   "source": [
    "tmin = 0.0\n",
    "tmax = 25.05 * 10\n",
    "t = Array(tmin:25.05/1000:tmax)"
   ]
  },
  {
   "cell_type": "code",
   "execution_count": 9,
   "metadata": {},
   "outputs": [
    {
     "data": {
      "text/plain": [
       "10001-element Array{Float64,1}:\n",
       " 0.0\n",
       " 0.0\n",
       " 0.0\n",
       " 0.0\n",
       " 0.0\n",
       " 0.0\n",
       " 0.0\n",
       " 0.0\n",
       " 0.0\n",
       " 0.0\n",
       " 0.0\n",
       " 0.0\n",
       " 0.0\n",
       " ⋮  \n",
       " 0.0\n",
       " 0.0\n",
       " 0.0\n",
       " 0.0\n",
       " 0.0\n",
       " 0.0\n",
       " 0.0\n",
       " 0.0\n",
       " 0.0\n",
       " 0.0\n",
       " 0.0\n",
       " 0.0"
      ]
     },
     "execution_count": 9,
     "metadata": {},
     "output_type": "execute_result"
    }
   ],
   "source": [
    "vec(dF)"
   ]
  },
  {
   "cell_type": "code",
   "execution_count": 26,
   "metadata": {},
   "outputs": [
    {
     "name": "stderr",
     "output_type": "stream",
     "text": [
      "┌ Warning: `getindex(o::PyObject, s::Symbol)` is deprecated in favor of dot overloading (`getproperty`) so elements should now be accessed as e.g. `o.s` instead of `o[:s]`.\n",
      "│   caller = top-level scope at In[26]:3\n",
      "└ @ Core In[26]:3\n",
      "┌ Warning: `getindex(o::PyObject, s::Symbol)` is deprecated in favor of dot overloading (`getproperty`) so elements should now be accessed as e.g. `o.s` instead of `o[:s]`.\n",
      "│   caller = top-level scope at In[26]:5\n",
      "└ @ Core In[26]:5\n"
     ]
    },
    {
     "data": {
      "text/plain": [
       "PyObject Text(0.5, 23.52222222222222, 'time')"
      ]
     },
     "execution_count": 26,
     "metadata": {},
     "output_type": "execute_result"
    }
   ],
   "source": [
    "pygui(true)\n",
    "fig, ax = subplots(2,1, sharex = true)\n",
    "ax[1,1][:plot](t, transpose(dF))\n",
    "ax[1,1].set_ylabel(\"dF\")\n",
    "ax[2,1][:plot](t, transpose(dRV))\n",
    "ax[2,1].set_ylabel(\"dRV\")\n",
    "ax[2,1].set_xlabel(\"time\")"
   ]
  },
  {
   "cell_type": "markdown",
   "metadata": {},
   "source": [
    "## one spot \n",
    "❌ spots evolution <br>\n",
    "❌ facula <br>\n",
    "✅ convection: Q=5, vconv=200m/s <br>"
   ]
  },
  {
   "cell_type": "code",
   "execution_count": 27,
   "metadata": {},
   "outputs": [
    {
     "data": {
      "text/plain": [
       "Jspot.RotationSpot(1, 1.0, Number[25.05], Number[0.6], Number[0.2], 200.0, Number[0.0], [0.01], [1.0], [0.0], Number[4.995345783720144], Number[1.5707963267948966], Number[0.0], Number[5.0])"
      ]
     },
     "execution_count": 27,
     "metadata": {},
     "output_type": "execute_result"
    }
   ],
   "source": [
    "structs = conf_spotmodel(\"../test/samples/onespot_noevo_nofac_conv.ini\")"
   ]
  },
  {
   "cell_type": "code",
   "execution_count": 28,
   "metadata": {},
   "outputs": [
    {
     "data": {
      "text/plain": [
       "([-0.5260011350339644 -0.528679257008143 … -0.5233154183522176 -0.5260011350339615], [1189.1144693632023 1196.421130464989 … 1181.7566402721231 1189.1144693631943], [331.99610839262147 341.2478606271783 … 322.8054390092557 331.9961083926114])"
      ]
     },
     "execution_count": 28,
     "metadata": {},
     "output_type": "execute_result"
    }
   ],
   "source": [
    "dF, dRV, BIS = simulation(structs;nper=10, comb=true)"
   ]
  },
  {
   "cell_type": "code",
   "execution_count": 29,
   "metadata": {},
   "outputs": [
    {
     "name": "stderr",
     "output_type": "stream",
     "text": [
      "┌ Warning: `getindex(o::PyObject, s::Symbol)` is deprecated in favor of dot overloading (`getproperty`) so elements should now be accessed as e.g. `o.s` instead of `o[:s]`.\n",
      "│   caller = top-level scope at In[29]:2\n",
      "└ @ Core In[29]:2\n",
      "┌ Warning: `getindex(o::PyObject, s::Symbol)` is deprecated in favor of dot overloading (`getproperty`) so elements should now be accessed as e.g. `o.s` instead of `o[:s]`.\n",
      "│   caller = top-level scope at In[29]:4\n",
      "└ @ Core In[29]:4\n"
     ]
    },
    {
     "data": {
      "text/plain": [
       "PyObject Text(0.5, 23.52222222222222, 'time')"
      ]
     },
     "execution_count": 29,
     "metadata": {},
     "output_type": "execute_result"
    }
   ],
   "source": [
    "fig, ax = subplots(2,1, sharex = true)\n",
    "ax[1,1][:plot](t, transpose(dF))\n",
    "ax[1,1].set_ylabel(\"dF\")\n",
    "ax[2,1][:plot](t, transpose(dRV))\n",
    "ax[2,1].set_ylabel(\"dRV\")\n",
    "ax[2,1].set_xlabel(\"time\")"
   ]
  },
  {
   "cell_type": "markdown",
   "metadata": {},
   "source": [
    "## one spot (need to analyse if fac happens around spots)\n",
    "❌ spots evolution <br>\n",
    "✅ facula: cfac=2 <br>\n",
    "✅ convection: Q=5, vconv=200m/s <br>"
   ]
  },
  {
   "cell_type": "code",
   "execution_count": 69,
   "metadata": {},
   "outputs": [
    {
     "data": {
      "text/plain": [
       "Jspot.RotationSpot(1, 1.0, Number[25.05], Number[0.6], Number[0.577], 200.0, Number[-0.115], [0.01], [1.0], [0.0], Number[5.643249295517552], Number[1.5707963267948966], Number[0.0], Number[10.0])"
      ]
     },
     "execution_count": 69,
     "metadata": {},
     "output_type": "execute_result"
    }
   ],
   "source": [
    "structs = conf_spotmodel(\"../test/samples/onespot_noevo_fac_conv.ini\")"
   ]
  },
  {
   "cell_type": "code",
   "execution_count": 70,
   "metadata": {},
   "outputs": [
    {
     "data": {
      "text/plain": [
       "([-0.30221519464521124 -0.3044354031466571 … -0.2999802454694192 -0.3022151946452094], [1362.2698965494324 1358.4952237717785 … 1365.9895276678167 1362.2698965494355], [1092.722960039032 1094.7706530210214 … 1090.5598601155878 1092.7229600390303])"
      ]
     },
     "execution_count": 70,
     "metadata": {},
     "output_type": "execute_result"
    }
   ],
   "source": [
    "dF, dRV, BIS = simulation(structs;nper=10, comb=true)"
   ]
  },
  {
   "cell_type": "code",
   "execution_count": 71,
   "metadata": {},
   "outputs": [
    {
     "name": "stderr",
     "output_type": "stream",
     "text": [
      "┌ Warning: `getindex(o::PyObject, s::Symbol)` is deprecated in favor of dot overloading (`getproperty`) so elements should now be accessed as e.g. `o.s` instead of `o[:s]`.\n",
      "│   caller = top-level scope at In[71]:2\n",
      "└ @ Core In[71]:2\n",
      "┌ Warning: `getindex(o::PyObject, s::Symbol)` is deprecated in favor of dot overloading (`getproperty`) so elements should now be accessed as e.g. `o.s` instead of `o[:s]`.\n",
      "│   caller = top-level scope at In[71]:4\n",
      "└ @ Core In[71]:4\n"
     ]
    },
    {
     "data": {
      "text/plain": [
       "PyObject Text(0.5, 23.52222222222222, 'time')"
      ]
     },
     "execution_count": 71,
     "metadata": {},
     "output_type": "execute_result"
    }
   ],
   "source": [
    "fig, ax = subplots(2,1, sharex = true)\n",
    "ax[1,1][:plot](t, transpose(dF))\n",
    "ax[1,1].set_ylabel(\"dF\")\n",
    "ax[2,1][:plot](t, transpose(dRV))\n",
    "ax[2,1].set_ylabel(\"dRV\")\n",
    "ax[2,1].set_xlabel(\"time\")"
   ]
  },
  {
   "cell_type": "markdown",
   "metadata": {},
   "source": [
    "## one spot \n",
    "✅ spots evolution: diagram: init_lat = 40, cycle=2yrs; differential_rate = 0.185  <br>\n",
    "❌ facula <br>\n",
    "✅ convection: Q=5, vconv=200m/s <br>"
   ]
  },
  {
   "cell_type": "code",
   "execution_count": 92,
   "metadata": {},
   "outputs": [
    {
     "ename": "KeyError",
     "evalue": "KeyError: key \"decay_scale\" not found",
     "output_type": "error",
     "traceback": [
      "KeyError: key \"decay_scale\" not found",
      "",
      "Stacktrace:",
      " [1] getindex(::Dict{String,Array{String,1}}, ::String) at ./dict.jl:477",
      " [2] retrieve(::ConfParser.ConfParse, ::String, ::String, ::Type) at /home/yangyangli/.julia/packages/ConfParser/40Z2H/src/ConfParser.jl:332",
      " [3] conf_spotmodel(::String) at /media/yangyangli/OS/yangyangli_private/Code/Jspot/Jspot/src/config.jl:35",
      " [4] top-level scope at In[92]:1"
     ]
    }
   ],
   "source": [
    "structs = conf_spotmodel(\"../test/samples/onespot_evo_nofac_conv.ini\")"
   ]
  },
  {
   "cell_type": "code",
   "execution_count": 9,
   "metadata": {},
   "outputs": [
    {
     "data": {
      "text/plain": [
       "([0.0 0.0 … 0.0 0.0], [0.0 0.0 … 0.0 0.0], [0.0 0.0 … 0.0 0.0])"
      ]
     },
     "execution_count": 9,
     "metadata": {},
     "output_type": "execute_result"
    }
   ],
   "source": [
    "dF, dRV, BIS = simulation(structs[1], structs[2], structs[3];nper=10, comb=true)"
   ]
  },
  {
   "cell_type": "code",
   "execution_count": 12,
   "metadata": {},
   "outputs": [
    {
     "name": "stderr",
     "output_type": "stream",
     "text": [
      "┌ Warning: `getindex(o::PyObject, s::Symbol)` is deprecated in favor of dot overloading (`getproperty`) so elements should now be accessed as e.g. `o.s` instead of `o[:s]`.\n",
      "│   caller = top-level scope at In[12]:3\n",
      "└ @ Core In[12]:3\n",
      "┌ Warning: `getindex(o::PyObject, s::Symbol)` is deprecated in favor of dot overloading (`getproperty`) so elements should now be accessed as e.g. `o.s` instead of `o[:s]`.\n",
      "│   caller = top-level scope at In[12]:5\n",
      "└ @ Core In[12]:5\n"
     ]
    },
    {
     "data": {
      "text/plain": [
       "PyObject Text(0.5, 23.52222222222222, 'time')"
      ]
     },
     "execution_count": 12,
     "metadata": {},
     "output_type": "execute_result"
    }
   ],
   "source": [
    "pygui(true)\n",
    "fig, ax = subplots(2,1, sharex = true)\n",
    "ax[1,1][:plot](t, transpose(dF))\n",
    "ax[1,1].set_ylabel(\"dF\")\n",
    "ax[2,1][:plot](t, transpose(dRV))\n",
    "ax[2,1].set_ylabel(\"dRV\")\n",
    "ax[2,1].set_xlabel(\"time\")"
   ]
  },
  {
   "cell_type": "markdown",
   "metadata": {},
   "source": [
    "spot decays away"
   ]
  },
  {
   "cell_type": "markdown",
   "metadata": {},
   "source": [
    "# multispots sessions (nspots=100)"
   ]
  },
  {
   "cell_type": "markdown",
   "metadata": {},
   "source": [
    "✅ spots evolution: diagram: init_lat = 40, cycle=2yrs; differential_rate = 0.185  <br>\n",
    "❌ facula <br>\n",
    "✅ convection: Q=5, vconv=200m/s <br>"
   ]
  },
  {
   "cell_type": "code",
   "execution_count": 75,
   "metadata": {},
   "outputs": [
    {
     "data": {
      "text/plain": [
       "3-element Array{Any,1}:\n",
       " Jspot.RotationSpot(100, 1.0, Number[25.05, 25.05, 25.05, 25.05, 25.05, 25.05, 25.05, 25.05, 25.05, 25.05  …  25.05, 25.05, 25.05, 25.05, 25.05, 25.05, 25.05, 25.05, 25.05, 25.05], Number[0.6, 0.6, 0.6, 0.6, 0.6, 0.6, 0.6, 0.6, 0.6, 0.6  …  0.6, 0.6, 0.6, 0.6, 0.6, 0.6, 0.6, 0.6, 0.6, 0.6], Number[0.2, 0.2, 0.2, 0.2, 0.2, 0.2, 0.2, 0.2, 0.2, 0.2  …  0.2, 0.2, 0.2, 0.2, 0.2, 0.2, 0.2, 0.2, 0.2, 0.2], 200.0, Number[0.2, 0.2, 0.2, 0.2, 0.2, 0.2, 0.2, 0.2, 0.2, 0.2  …  0.2, 0.2, 0.2, 0.2, 0.2, 0.2, 0.2, 0.2, 0.2, 0.2], [0.01, 0.01, 0.01, 0.01, 0.01, 0.01, 0.01, 0.01, 0.01, 0.01  …  0.01, 0.01, 0.01, 0.01, 0.01, 0.01, 0.01, 0.01, 0.01, 0.01], [1.0, 1.0, 1.0, 1.0, 1.0, 1.0, 1.0, 1.0, 1.0, 1.0  …  1.0, 1.0, 1.0, 1.0, 1.0, 1.0, 1.0, 1.0, 1.0, 1.0], [43.42494073109498, 25.589069394705405, 44.03053542726084, 167.33703793198748, 105.61255532598328, 57.01272403581397, 41.40945826089132, 96.26093495571435, 99.90830319252618, 25.109652627047105  …  30.513418323181316, 91.7188277639655, 34.260798774040154, 81.51011146412633, 133.9738980424844, 226.199420575765, 28.691761789282843, 123.3370152739742, 28.370835677196354, 26.346929520643407], Number[1.5502455280266947, 3.0517817205654567, 4.0715934667361315, 0.08138233358628597, 5.234352117241266, 2.5914807723713955, 2.4714551631153854, 0.28910739978191946, 3.5256249144397858, 0.842114244220607  …  5.375515633625199, 0.8001387206602647, 2.166962328574904, 3.504313191339024, 4.8618876501668975, 5.133312993108288, 4.387217322461402, 0.22305513811498467, 1.7404417476438112, 1.4559002083960457], Number[1.5707963267948966, 1.5707963267948966, 1.5707963267948966, 1.5707963267948966, 1.5707963267948966, 1.5707963267948966, 1.5707963267948966, 1.5707963267948966, 1.5707963267948966, 1.5707963267948966  …  1.5707963267948966, 1.5707963267948966, 1.5707963267948966, 1.5707963267948966, 1.5707963267948966, 1.5707963267948966, 1.5707963267948966, 1.5707963267948966, 1.5707963267948966, 1.5707963267948966], Number[0.0, 0.0, 0.0, 0.0, 0.0, 0.0, 0.0, 0.0, 0.0, 0.0  …  0.0, 0.0, 0.0, 0.0, 0.0, 0.0, 0.0, 0.0, 0.0, 0.0], Number[10.0, 10.0, 10.0, 10.0, 10.0, 10.0, 10.0, 10.0, 10.0, 10.0  …  10.0, 10.0, 10.0, 10.0, 10.0, 10.0, 10.0, 10.0, 10.0, 10.0])\n",
       " Jspot.Diagram(0.0, 3000.0, 40.0)                                                                                                                                                                                                                                                                                                                                                                                                                                                                                                                                                                                                                                                                                                                                                                                                                                                                                                                                                                                                                                                                                                                                                                                                                                                                                                                                                                                                                                                                                                                                                                                                                                                                                                                                                                                                                                                                                                                                                                                                                                                                                                                                                                                                                                                         \n",
       " Jspot.Differential(0.25082576076565216, 0.185)                                                                                                                                                                                                                                                                                                                                                                                                                                                                                                                                                                                                                                                                                                                                                                                                                                                                                                                                                                                                                                                                                                                                                                                                                                                                                                                                                                                                                                                                                                                                                                                                                                                                                                                                                                                                                                                                                                                                                                                                                                                                                                                                                                                                                                           "
      ]
     },
     "execution_count": 75,
     "metadata": {},
     "output_type": "execute_result"
    }
   ],
   "source": [
    "structs = conf_spotmodel(\"../test/samples/multispots_evo_nofac_conv.ini\")"
   ]
  },
  {
   "cell_type": "code",
   "execution_count": 76,
   "metadata": {},
   "outputs": [
    {
     "data": {
      "text/plain": [
       "([-0.007889108273284621 -0.007939121646557707 … -0.0004924284356614982 -0.0002927061905164275], [78.53467040762897 78.5161042316265 … 34.66958376862931 34.49424232246632], [51.92809745469546 52.140102828212285 … 25.45846427961307 25.163296436890306])"
      ]
     },
     "execution_count": 76,
     "metadata": {},
     "output_type": "execute_result"
    }
   ],
   "source": [
    "dF, dRV, BIS = simulation(structs[1], structs[2], structs[3];nper=10, comb=true)"
   ]
  },
  {
   "cell_type": "code",
   "execution_count": 77,
   "metadata": {},
   "outputs": [
    {
     "data": {
      "image/png": "[encoded data removed]",
      "text/plain": [
       "Figure(PyObject <Figure size 640x480 with 2 Axes>)"
      ]
     },
     "metadata": {},
     "output_type": "display_data"
    },
    {
     "name": "stderr",
     "output_type": "stream",
     "text": [
      "┌ Warning: `getindex(o::PyObject, s::Symbol)` is deprecated in favor of dot overloading (`getproperty`) so elements should now be accessed as e.g. `o.s` instead of `o[:s]`.\n",
      "│   caller = top-level scope at In[77]:2\n",
      "└ @ Core In[77]:2\n",
      "┌ Warning: `getindex(o::PyObject, s::Symbol)` is deprecated in favor of dot overloading (`getproperty`) so elements should now be accessed as e.g. `o.s` instead of `o[:s]`.\n",
      "│   caller = top-level scope at In[77]:4\n",
      "└ @ Core In[77]:4\n"
     ]
    },
    {
     "data": {
      "text/plain": [
       "PyObject Text(0.5, 24.0, 'time')"
      ]
     },
     "execution_count": 77,
     "metadata": {},
     "output_type": "execute_result"
    }
   ],
   "source": [
    "fig, ax = subplots(2,1, sharex = true)\n",
    "ax[1,1][:plot](t, transpose(dF))\n",
    "ax[1,1].set_ylabel(\"dF\")\n",
    "ax[2,1][:plot](t, transpose(dRV))\n",
    "ax[2,1].set_ylabel(\"dRV\")\n",
    "ax[2,1].set_xlabel(\"time\")"
   ]
  },
  {
   "cell_type": "code",
   "execution_count": 14,
   "metadata": {},
   "outputs": [
    {
     "name": "stderr",
     "output_type": "stream",
     "text": [
      "┌ Info: Recompiling stale cache file /home/yangyangli/.julia/compiled/v1.2/DataFrames/AR9oZ.ji for DataFrames [a93c6f00-e57d-5684-b7b6-d8193f3e46c0]\n",
      "└ @ Base loading.jl:1240\n"
     ]
    }
   ],
   "source": [
    "using DataFrames"
   ]
  },
  {
   "cell_type": "code",
   "execution_count": 78,
   "metadata": {},
   "outputs": [
    {
     "data": {
      "text/html": [
       "<table class=\"data-frame\"><thead><tr><th></th><th>time</th><th>dF</th><th>dRV</th></tr><tr><th></th><th>Float64</th><th>Float64</th><th>Float64</th></tr></thead><tbody><p>10,001 rows × 3 columns</p><tr><th>1</th><td>0.0</td><td>-0.00788911</td><td>78.5347</td></tr><tr><th>2</th><td>0.02505</td><td>-0.00793912</td><td>78.5161</td></tr><tr><th>3</th><td>0.0501</td><td>-0.00799077</td><td>78.4889</td></tr><tr><th>4</th><td>0.07515</td><td>-0.00804402</td><td>78.4532</td></tr><tr><th>5</th><td>0.1002</td><td>-0.00809884</td><td>78.409</td></tr><tr><th>6</th><td>0.12525</td><td>-0.0081552</td><td>78.3565</td></tr><tr><th>7</th><td>0.1503</td><td>-0.00821307</td><td>78.2956</td></tr><tr><th>8</th><td>0.17535</td><td>-0.00827242</td><td>78.2265</td></tr><tr><th>9</th><td>0.2004</td><td>-0.00833321</td><td>78.1492</td></tr><tr><th>10</th><td>0.22545</td><td>-0.00839542</td><td>78.0638</td></tr><tr><th>11</th><td>0.2505</td><td>-0.00845901</td><td>77.9705</td></tr><tr><th>12</th><td>0.27555</td><td>-0.00852396</td><td>77.8693</td></tr><tr><th>13</th><td>0.3006</td><td>-0.00859023</td><td>77.7602</td></tr><tr><th>14</th><td>0.32565</td><td>-0.00865779</td><td>77.6435</td></tr><tr><th>15</th><td>0.3507</td><td>-0.00872661</td><td>77.5191</td></tr><tr><th>16</th><td>0.37575</td><td>-0.00879667</td><td>77.3872</td></tr><tr><th>17</th><td>0.4008</td><td>-0.00886792</td><td>77.248</td></tr><tr><th>18</th><td>0.42585</td><td>-0.00894035</td><td>77.1014</td></tr><tr><th>19</th><td>0.4509</td><td>-0.00901393</td><td>76.9476</td></tr><tr><th>20</th><td>0.47595</td><td>-0.00908861</td><td>76.7867</td></tr><tr><th>21</th><td>0.501</td><td>-0.00916439</td><td>76.6189</td></tr><tr><th>22</th><td>0.52605</td><td>-0.00924121</td><td>76.4441</td></tr><tr><th>23</th><td>0.5511</td><td>-0.00931907</td><td>76.2627</td></tr><tr><th>24</th><td>0.57615</td><td>-0.00939792</td><td>76.0746</td></tr><tr><th>25</th><td>0.6012</td><td>-0.00947775</td><td>75.8799</td></tr><tr><th>26</th><td>0.62625</td><td>-0.00955852</td><td>75.6789</td></tr><tr><th>27</th><td>0.6513</td><td>-0.00964021</td><td>75.4716</td></tr><tr><th>28</th><td>0.67635</td><td>-0.00972278</td><td>75.2582</td></tr><tr><th>29</th><td>0.7014</td><td>-0.00980621</td><td>75.0387</td></tr><tr><th>30</th><td>0.72645</td><td>-0.00989048</td><td>74.8134</td></tr><tr><th>&vellip;</th><td>&vellip;</td><td>&vellip;</td><td>&vellip;</td></tr></tbody></table>"
      ],
      "text/latex": [
       "\\begin{tabular}{r|ccc}\n",
       "\t& time & dF & dRV\\\\\n",
       "\t\\hline\n",
       "\t& Float64 & Float64 & Float64\\\\\n",
       "\t\\hline\n",
       "\t1 & 0.0 & -0.00788911 & 78.5347 \\\\\n",
       "\t2 & 0.02505 & -0.00793912 & 78.5161 \\\\\n",
       "\t3 & 0.0501 & -0.00799077 & 78.4889 \\\\\n",
       "\t4 & 0.07515 & -0.00804402 & 78.4532 \\\\\n",
       "\t5 & 0.1002 & -0.00809884 & 78.409 \\\\\n",
       "\t6 & 0.12525 & -0.0081552 & 78.3565 \\\\\n",
       "\t7 & 0.1503 & -0.00821307 & 78.2956 \\\\\n",
       "\t8 & 0.17535 & -0.00827242 & 78.2265 \\\\\n",
       "\t9 & 0.2004 & -0.00833321 & 78.1492 \\\\\n",
       "\t10 & 0.22545 & -0.00839542 & 78.0638 \\\\\n",
       "\t11 & 0.2505 & -0.00845901 & 77.9705 \\\\\n",
       "\t12 & 0.27555 & -0.00852396 & 77.8693 \\\\\n",
       "\t13 & 0.3006 & -0.00859023 & 77.7602 \\\\\n",
       "\t14 & 0.32565 & -0.00865779 & 77.6435 \\\\\n",
       "\t15 & 0.3507 & -0.00872661 & 77.5191 \\\\\n",
       "\t16 & 0.37575 & -0.00879667 & 77.3872 \\\\\n",
       "\t17 & 0.4008 & -0.00886792 & 77.248 \\\\\n",
       "\t18 & 0.42585 & -0.00894035 & 77.1014 \\\\\n",
       "\t19 & 0.4509 & -0.00901393 & 76.9476 \\\\\n",
       "\t20 & 0.47595 & -0.00908861 & 76.7867 \\\\\n",
       "\t21 & 0.501 & -0.00916439 & 76.6189 \\\\\n",
       "\t22 & 0.52605 & -0.00924121 & 76.4441 \\\\\n",
       "\t23 & 0.5511 & -0.00931907 & 76.2627 \\\\\n",
       "\t24 & 0.57615 & -0.00939792 & 76.0746 \\\\\n",
       "\t25 & 0.6012 & -0.00947775 & 75.8799 \\\\\n",
       "\t26 & 0.62625 & -0.00955852 & 75.6789 \\\\\n",
       "\t27 & 0.6513 & -0.00964021 & 75.4716 \\\\\n",
       "\t28 & 0.67635 & -0.00972278 & 75.2582 \\\\\n",
       "\t29 & 0.7014 & -0.00980621 & 75.0387 \\\\\n",
       "\t30 & 0.72645 & -0.00989048 & 74.8134 \\\\\n",
       "\t$\\dots$ & $\\dots$ & $\\dots$ & $\\dots$ \\\\\n",
       "\\end{tabular}\n"
      ],
      "text/plain": [
       "10001×3 DataFrame\n",
       "│ Row   │ time    │ dF           │ dRV     │\n",
       "│       │ \u001b[90mFloat64\u001b[39m │ \u001b[90mFloat64\u001b[39m      │ \u001b[90mFloat64\u001b[39m │\n",
       "├───────┼─────────┼──────────────┼─────────┤\n",
       "│ 1     │ 0.0     │ -0.00788911  │ 78.5347 │\n",
       "│ 2     │ 0.02505 │ -0.00793912  │ 78.5161 │\n",
       "│ 3     │ 0.0501  │ -0.00799077  │ 78.4889 │\n",
       "│ 4     │ 0.07515 │ -0.00804402  │ 78.4532 │\n",
       "│ 5     │ 0.1002  │ -0.00809884  │ 78.409  │\n",
       "│ 6     │ 0.12525 │ -0.0081552   │ 78.3565 │\n",
       "│ 7     │ 0.1503  │ -0.00821307  │ 78.2956 │\n",
       "│ 8     │ 0.17535 │ -0.00827242  │ 78.2265 │\n",
       "│ 9     │ 0.2004  │ -0.00833321  │ 78.1492 │\n",
       "│ 10    │ 0.22545 │ -0.00839542  │ 78.0638 │\n",
       "⋮\n",
       "│ 9991  │ 250.25  │ -0.00237065  │ 36.2668 │\n",
       "│ 9992  │ 250.275 │ -0.00215494  │ 36.0874 │\n",
       "│ 9993  │ 250.3   │ -0.00194094  │ 35.9086 │\n",
       "│ 9994  │ 250.325 │ -0.00172868  │ 35.7302 │\n",
       "│ 9995  │ 250.35  │ -0.00151817  │ 35.5523 │\n",
       "│ 9996  │ 250.375 │ -0.00130943  │ 35.3749 │\n",
       "│ 9997  │ 250.4   │ -0.00110247  │ 35.1979 │\n",
       "│ 9998  │ 250.425 │ -0.000897314 │ 35.0214 │\n",
       "│ 9999  │ 250.45  │ -0.000693964 │ 34.8453 │\n",
       "│ 10000 │ 250.475 │ -0.000492428 │ 34.6696 │\n",
       "│ 10001 │ 250.5   │ -0.000292706 │ 34.4942 │"
      ]
     },
     "execution_count": 78,
     "metadata": {},
     "output_type": "execute_result"
    }
   ],
   "source": [
    "df = DataFrame(time=t, dF=vec(dF), dRV=vec(dRV))"
   ]
  },
  {
   "cell_type": "code",
   "execution_count": 16,
   "metadata": {},
   "outputs": [
    {
     "name": "stderr",
     "output_type": "stream",
     "text": [
      "┌ Info: Recompiling stale cache file /home/yangyangli/.julia/compiled/v1.2/CSV/HHBkp.ji for CSV [336ed68f-0bac-5ca0-87d4-7b16caf5d00b]\n",
      "└ @ Base loading.jl:1240\n"
     ]
    }
   ],
   "source": [
    "using CSV"
   ]
  },
  {
   "cell_type": "code",
   "execution_count": 79,
   "metadata": {},
   "outputs": [
    {
     "data": {
      "text/plain": [
       "\"offset_1_scale_2.csv\""
      ]
     },
     "execution_count": 79,
     "metadata": {},
     "output_type": "execute_result"
    }
   ],
   "source": [
    "CSV.write(\"offset_1_scale_2.csv\", df)"
   ]
  },
  {
   "cell_type": "markdown",
   "metadata": {},
   "source": [
    "# Group creation with the magnetic cycle (Dumusque et al. 2011c) (multispots)"
   ]
  },
  {
   "cell_type": "markdown",
   "metadata": {},
   "source": [
    " form in group (same property, geometrical and lifetime): <br>\n",
    "✅the appearance of spot group is relavant with the magnetic cycle <br>\n",
    "✅the filling factors of spots are strictly linear with their lifetime <br>\n",
    "✅spots linearly grow and die down <br>\n",
    "✅differential rotation <br>"
   ]
  },
  {
   "cell_type": "code",
   "execution_count": 80,
   "metadata": {},
   "outputs": [
    {
     "data": {
      "text/plain": [
       "2-element Array{Any,1}:\n",
       " Jspot.RotationSpot(150, 1.0, Number[25.05, 25.05, 25.05, 25.05, 25.05, 25.05, 25.05, 25.05, 25.05, 25.05  …  25.05, 25.05, 25.05, 25.05, 25.05, 25.05, 25.05, 25.05, 25.05, 25.05], Number[0.6, 0.6, 0.6, 0.6, 0.6, 0.6, 0.6, 0.6, 0.6, 0.6  …  0.6, 0.6, 0.6, 0.6, 0.6, 0.6, 0.6, 0.6, 0.6, 0.6], Number[0.2, 0.2, 0.2, 0.2, 0.2, 0.2, 0.2, 0.2, 0.2, 0.2  …  0.2, 0.2, 0.2, 0.2, 0.2, 0.2, 0.2, 0.2, 0.2, 0.2], 300.0, Number[5.0, 5.0, 5.0, 5.0, 5.0, 5.0, 5.0, 5.0, 5.0, 5.0  …  5.0, 5.0, 5.0, 5.0, 5.0, 5.0, 5.0, 5.0, 5.0, 5.0], [0.0001962685631835005, 0.0007946654985067479, 0.0019583378974395004, 0.0001654406664921144, 0.0006833221999370824, 0.0007589302653086654, 0.00015603170229538585, 0.00011921160617650067, 0.0004529422303753633, 0.0010537371817800304  …  0.0009716633826805641, 0.00012969723455296634, 0.0001548413227369061, 0.0010588276223177677, 0.0005463496398433633, 0.00017618107599154728, 6.916133848359628e-5, 0.0001395924183853854, 7.101896655851899e-5, 0.00030904697613257136], [0.6542285439450015, 2.6488849950224926, 6.527792991465001, 0.5514688883070479, 2.277740666456941, 2.5297675510288844, 0.5201056743179528, 0.4806720205883355, 1.593107434584544, 3.6790572726001005  …  253.05557794227698, 250.249024115185, 250.58273774246481, 253.67932540773435, 252.05436546615303, 250.90377025331364, 250.5470377949538, 250.7818080612931, 250.7198298885369, 251.51325658711707], [1.9626856318350048, 7.946654985067478, 19.583378974395004, 1.6544066649211437, 6.833221999370823, 7.589302653086654, 1.5603170229538585, 1.1921160617650066, 4.529422303753632, 10.537371817800302  …  9.71663382680564, 1.2969723455296633, 1.548413227369061, 10.588276223177676, 5.463496398433633, 1.7618107599154726, 0.6916133848359628, 1.3959241838538539, 0.7101896655851899, 3.0904697613257133], Number[4.768402109194764, 0.5434710220808612, 1.2383739806581653, 3.554701286694548, 0.5515202492711311, -0.14132863617236255, 0.3784954617060538, 4.381759058015752, -0.491778081205085, 4.594278293385157  …  4.235411997469074, 1.0719863386743549, 3.279240852106582, 1.673403965205349, 4.8653816499982545, 2.9182636859717737, 4.288962956916527, 2.7446519270296035, 1.1822493896309756, 0.1332149156988415], Number[1.5707963267948966, 1.5707963267948966, 1.5707963267948966, 1.5707963267948966, 1.5707963267948966, 1.5707963267948966, 1.5707963267948966, 1.5707963267948966, 1.5707963267948966, 1.5707963267948966  …  1.5707963267948966, 1.5707963267948966, 1.5707963267948966, 1.5707963267948966, 1.5707963267948966, 1.5707963267948966, 1.5707963267948966, 1.5707963267948966, 1.5707963267948966, 1.5707963267948966], Number[-0.019129445016624176, 0.03199964483172405, -0.005434102900828214, 0.05573563788394093, 0.0029308815381457244, 0.027427310037445935, 3.195623347054054e-5, -0.03508527438918441, 0.033223229045928795, -0.012347807746613737  …  -0.5109364514833132, -0.4415548111475226, 0.48973751082497563, -0.5051963055252897, -0.5461004442722651, 0.399374393799795, -0.5127508984587187, 0.5424701843496643, -0.38715509085097966, 0.5736228199988913], Number[20.0, 20.0, 20.0, 20.0, 20.0, 20.0, 20.0, 20.0, 20.0, 20.0  …  20.0, 20.0, 20.0, 20.0, 20.0, 20.0, 20.0, 20.0, 20.0, 20.0])\n",
       " Jspot.Differential(0.25082576076565216, 0.185)                                                                                                                                                                                                                                                                                                                                                                                                                                                                                                                                                                                                                                                                                                                                                                                                                                                                                                                                                                                                                                                                                                                                                                                                                                                                                                                                                                                                                                                                                                                                                                                                                                                                                                                                                                                                                                                                                                                                                                                                                                                                                                                                                                                                                                                                                                                                                                                                                                                                                                                                                                                                                                                                                                                                                                                                                                                                                                                                                                                                                                                                                                                                                                                                                                                  "
      ]
     },
     "execution_count": 80,
     "metadata": {},
     "output_type": "execute_result"
    }
   ],
   "source": [
    "structs = conf_spotmodel(\"../test/samples/sun.ini\", t)"
   ]
  },
  {
   "cell_type": "code",
   "execution_count": 81,
   "metadata": {},
   "outputs": [
    {
     "data": {
      "text/plain": [
       "([2.8752616174168208e-18 0.00042945008268337697 … 0.839979197533988 0.8403115439103138], [1.2634297813348099e-14 1.2825815202007045 … 3058.0507322779704 3066.2370107062297], [1.0619375685080405e-14 1.0428767949338076 … 1931.6518632489162 1938.786553181846])"
      ]
     },
     "execution_count": 81,
     "metadata": {},
     "output_type": "execute_result"
    }
   ],
   "source": [
    "dF, dRV, BIS = simulation(structs[1], structs[2], t;comb=true)"
   ]
  },
  {
   "cell_type": "code",
   "execution_count": 82,
   "metadata": {
    "scrolled": true
   },
   "outputs": [
    {
     "name": "stderr",
     "output_type": "stream",
     "text": [
      "┌ Warning: `getindex(o::PyObject, s::Symbol)` is deprecated in favor of dot overloading (`getproperty`) so elements should now be accessed as e.g. `o.s` instead of `o[:s]`.\n",
      "│   caller = top-level scope at In[82]:3\n",
      "└ @ Core In[82]:3\n",
      "┌ Warning: `getindex(o::PyObject, s::Symbol)` is deprecated in favor of dot overloading (`getproperty`) so elements should now be accessed as e.g. `o.s` instead of `o[:s]`.\n",
      "│   caller = top-level scope at In[82]:5\n",
      "└ @ Core In[82]:5\n"
     ]
    },
    {
     "data": {
      "text/plain": [
       "PyObject Text(0.5, 23.52222222222222, 'time')"
      ]
     },
     "execution_count": 82,
     "metadata": {},
     "output_type": "execute_result"
    }
   ],
   "source": [
    "pygui(true)\n",
    "fig, ax = subplots(2,1, sharex = true)\n",
    "ax[1,1][:plot](t, transpose(dF))\n",
    "ax[1,1].set_ylabel(\"dF\")\n",
    "ax[2,1][:plot](t, transpose(dRV))\n",
    "ax[2,1].set_ylabel(\"dRV\")\n",
    "ax[2,1].set_xlabel(\"time\")"
   ]
  },
  {
   "cell_type": "code",
   "execution_count": 34,
   "metadata": {},
   "outputs": [],
   "source": [
    "fig.savefig(\"sun.png\")"
   ]
  },
  {
   "cell_type": "code",
   "execution_count": 18,
   "metadata": {},
   "outputs": [
    {
     "data": {
      "text/plain": [
       "12776-element Array{Number,1}:\n",
       " 25.269588656969116\n",
       " 25.4377217460955  \n",
       " 25.52026129144462 \n",
       " 25.304029081578097\n",
       " 25.31359988717506 \n",
       " 25.44216809802837 \n",
       " 25.374383692631675\n",
       " 25.57226308535424 \n",
       " 25.461160850164866\n",
       " 25.357874966880136\n",
       " 25.504181643676745\n",
       " 25.321446238432227\n",
       " 25.498174048113015\n",
       "  ⋮                \n",
       " 25.20365919147464 \n",
       " 25.145609793540576\n",
       " 25.179353921727913\n",
       " 25.05928985095383 \n",
       " 25.059348503880152\n",
       " 25.07310669539561 \n",
       " 25.100420872387947\n",
       " 25.120993236178123\n",
       " 25.10869227014815 \n",
       " 25.085478689187205\n",
       " 25.17356823807858 \n",
       " 25.129845511772494"
      ]
     },
     "execution_count": 18,
     "metadata": {},
     "output_type": "execute_result"
    }
   ],
   "source": [
    "structs[1].period"
   ]
  },
  {
   "cell_type": "code",
   "execution_count": 19,
   "metadata": {},
   "outputs": [
    {
     "data": {
      "text/plain": [
       "12776-element Array{Float64,1}:\n",
       " 0.0052585219534684036 \n",
       " 2.2249049585793184e-5 \n",
       " 0.0009334375435854574 \n",
       " 2.6894253070526842e-5 \n",
       " 0.0001004677358120139 \n",
       " 9.060139036938797e-5  \n",
       " 4.941720357028249e-5  \n",
       " 0.0006315992585676764 \n",
       " 0.00011137709358926287\n",
       " 0.00011556746184299617\n",
       " 0.0007375188938117899 \n",
       " 0.00010574674682158352\n",
       " 0.000804439356138705  \n",
       " ⋮                     \n",
       " 0.0001602113028299416 \n",
       " 0.0005313622178066638 \n",
       " 0.00018200737544281966\n",
       " 0.0006715826107237933 \n",
       " 0.002182896124169115  \n",
       " 0.0001521858567992617 \n",
       " 8.017122556610995e-5  \n",
       " 0.0006765706237172586 \n",
       " 0.0004922293116476234 \n",
       " 0.0001444543262828302 \n",
       " 0.001086244882458589  \n",
       " 0.0001301095190500749 "
      ]
     },
     "execution_count": 19,
     "metadata": {},
     "output_type": "execute_result"
    }
   ],
   "source": [
    "structs[1].amax"
   ]
  },
  {
   "cell_type": "code",
   "execution_count": 20,
   "metadata": {},
   "outputs": [
    {
     "data": {
      "text/plain": [
       "area (generic function with 1 method)"
      ]
     },
     "execution_count": 20,
     "metadata": {},
     "output_type": "execute_result"
    }
   ],
   "source": [
    "function area(pk::Float64, amax::Float64, lifetime::Float64, t::Array{Float64,1})\n",
    "    area = ones(size(t)[1]) .* amax\n",
    "    tt = t .- pk\n",
    "    l = tt .< 0\n",
    "    area[l] .*= (3 * amax / lifetime) .* tt[l] .+ amax\n",
    "    l = tt .>= 0\n",
    "    area[l] .*= (-3 / 2 * amax / lifetime) .* tt[l] .+ amax\n",
    "    l = area .< 0\n",
    "    area[l] .= 0\n",
    "    return area\n",
    "end"
   ]
  },
  {
   "cell_type": "code",
   "execution_count": 28,
   "metadata": {},
   "outputs": [],
   "source": [
    "amaxtot = zeros(length(t))\n",
    "for i in 1:1:length(structs[1].amax)\n",
    "    amaxtot .+= area(structs[1].pk[i], structs[1].amax[i], structs[1].decay[i], t)\n",
    "end"
   ]
  },
  {
   "cell_type": "code",
   "execution_count": 35,
   "metadata": {},
   "outputs": [
    {
     "name": "stderr",
     "output_type": "stream",
     "text": [
      "┌ Warning: `getindex(o::PyObject, s::Symbol)` is deprecated in favor of dot overloading (`getproperty`) so elements should now be accessed as e.g. `o.s` instead of `o[:s]`.\n",
      "│   caller = top-level scope at In[35]:2\n",
      "└ @ Core In[35]:2\n",
      "┌ Warning: `getindex(o::PyObject, s::Symbol)` is deprecated in favor of dot overloading (`getproperty`) so elements should now be accessed as e.g. `o.s` instead of `o[:s]`.\n",
      "│   caller = top-level scope at In[35]:4\n",
      "└ @ Core In[35]:4\n"
     ]
    },
    {
     "data": {
      "text/plain": [
       "PyObject Text(0.5, 23.52222222222222, 'time')"
      ]
     },
     "execution_count": 35,
     "metadata": {},
     "output_type": "execute_result"
    }
   ],
   "source": [
    "fig, ax = subplots(2,1, sharex = true)\n",
    "ax[1,1][:plot](t, amaxtot) \n",
    "ax[1,1].set_ylabel(\"filling_factor\")\n",
    "ax[2,1][:scatter](structs[1].pk, structs[1].lat, marker=\".\")\n",
    "ax[2,1].set_ylabel(\"initial_lat\")\n",
    "ax[2,1].set_xlabel(\"time\")"
   ]
  },
  {
   "cell_type": "code",
   "execution_count": 36,
   "metadata": {},
   "outputs": [],
   "source": [
    "fig.savefig(\"sun_evolution_pattern.png\")"
   ]
  },
  {
   "cell_type": "code",
   "execution_count": null,
   "metadata": {},
   "outputs": [],
   "source": []
  }
 ],
 "metadata": {
  "kernelspec": {
   "display_name": "Julia 1.2.0",
   "language": "julia",
   "name": "julia-1.2"
  },
  "language_info": {
   "file_extension": ".jl",
   "mimetype": "application/julia",
   "name": "julia",
   "version": "1.2.0"
  }
 },
 "nbformat": 4,
 "nbformat_minor": 2
}
