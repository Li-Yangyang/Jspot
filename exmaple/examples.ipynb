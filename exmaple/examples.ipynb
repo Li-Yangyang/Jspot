{
 "cells": [
  {
   "cell_type": "code",
   "execution_count": 1,
   "metadata": {},
   "outputs": [
    {
     "name": "stderr",
     "output_type": "stream",
     "text": [
      "┌ Info: Recompiling stale cache file /home/yangyangli/.julia/compiled/v1.2/Jspot/CFGeR.ji for Jspot [8573a212-7669-4580-92a2-bc18056681b9]\n",
      "└ @ Base loading.jl:1240\n",
      "WARNING: Method definition (::Type{Jspot.Diagram})(Float64, Float64, Float64) in module Jspot at /media/yangyangli/OS/yangyangli_private/Code/Jspot/Jspot/src/evolution.jl:4 overwritten at /media/yangyangli/OS/yangyangli_private/Code/Jspot/Jspot/src/evolution.jl:4.\n",
      "  ** incremental compilation may be fatally broken for this module **\n",
      "\n",
      "WARNING: Method definition (::Type{Jspot.Diagram})(Any, Any, Any) in module Jspot at /media/yangyangli/OS/yangyangli_private/Code/Jspot/Jspot/src/evolution.jl:4 overwritten at /media/yangyangli/OS/yangyangli_private/Code/Jspot/Jspot/src/evolution.jl:4.\n",
      "  ** incremental compilation may be fatally broken for this module **\n",
      "\n",
      "WARNING: Method definition (::Type{Jspot.Differential})(Float64, Float64) in module Jspot at /media/yangyangli/OS/yangyangli_private/Code/Jspot/Jspot/src/evolution.jl:10 overwritten at /media/yangyangli/OS/yangyangli_private/Code/Jspot/Jspot/src/evolution.jl:10.\n",
      "  ** incremental compilation may be fatally broken for this module **\n",
      "\n",
      "WARNING: Method definition (::Type{Jspot.Differential})(Any, Any) in module Jspot at /media/yangyangli/OS/yangyangli_private/Code/Jspot/Jspot/src/evolution.jl:10 overwritten at /media/yangyangli/OS/yangyangli_private/Code/Jspot/Jspot/src/evolution.jl:10.\n",
      "  ** incremental compilation may be fatally broken for this module **\n",
      "\n",
      "WARNING: Method definition sample_lat(Jspot.Diagram, Float64) in module Jspot at /media/yangyangli/OS/yangyangli_private/Code/Jspot/Jspot/src/evolution.jl:15 overwritten at /media/yangyangli/OS/yangyangli_private/Code/Jspot/Jspot/src/evolution.jl:15.\n",
      "  ** incremental compilation may be fatally broken for this module **\n",
      "\n",
      "WARNING: Method definition sample_lifetime(Float64) in module Jspot at /media/yangyangli/OS/yangyangli_private/Code/Jspot/Jspot/src/evolution.jl:28 overwritten at /media/yangyangli/OS/yangyangli_private/Code/Jspot/Jspot/src/evolution.jl:28.\n",
      "  ** incremental compilation may be fatally broken for this module **\n",
      "\n",
      "WARNING: Method definition sample_phase(Float64) in module Jspot at /media/yangyangli/OS/yangyangli_private/Code/Jspot/Jspot/src/evolution.jl:35 overwritten at /media/yangyangli/OS/yangyangli_private/Code/Jspot/Jspot/src/evolution.jl:35.\n",
      "  ** incremental compilation may be fatally broken for this module **\n",
      "\n"
     ]
    }
   ],
   "source": [
    "using Jspot"
   ]
  },
  {
   "cell_type": "markdown",
   "metadata": {},
   "source": [
    "# one spot session"
   ]
  },
  {
   "cell_type": "markdown",
   "metadata": {},
   "source": [
    "## one spot\n",
    "❌ spots evolution <br>\n",
    "❌ facula <br>\n",
    "❌ convection radial velocity <br>"
   ]
  },
  {
   "cell_type": "code",
   "execution_count": 2,
   "metadata": {},
   "outputs": [
    {
     "data": {
      "text/plain": [
       "Jspot.RotationSpot(1, 1.0, Number[25.05], Number[0.6], Number[1.0], 200.0, Number[1.2], [0.01], [1.0], [0.0], Number[2.515239170609039], Number[1.5707963267948966], Number[0.0], Number[20.0])"
      ]
     },
     "execution_count": 2,
     "metadata": {},
     "output_type": "execute_result"
    }
   ],
   "source": [
    "structs = conf_spotmodel(\"../test/samples/onespot_noevo_nofac_noconv.ini\")"
   ]
  },
  {
   "cell_type": "code",
   "execution_count": 3,
   "metadata": {},
   "outputs": [
    {
     "data": {
      "text/plain": [
       "2506-element Array{Float64,1}:\n",
       "    0.0\n",
       "    3.0\n",
       "    6.0\n",
       "    9.0\n",
       "   12.0\n",
       "   15.0\n",
       "   18.0\n",
       "   21.0\n",
       "   24.0\n",
       "   27.0\n",
       "   30.0\n",
       "   33.0\n",
       "   36.0\n",
       "    ⋮  \n",
       " 7482.0\n",
       " 7485.0\n",
       " 7488.0\n",
       " 7491.0\n",
       " 7494.0\n",
       " 7497.0\n",
       " 7500.0\n",
       " 7503.0\n",
       " 7506.0\n",
       " 7509.0\n",
       " 7512.0\n",
       " 7515.0"
      ]
     },
     "execution_count": 3,
     "metadata": {},
     "output_type": "execute_result"
    }
   ],
   "source": [
    "tmin = 0.0\n",
    "tmax = 25.05 * 300\n",
    "t = Array(tmin:3:tmax)"
   ]
  },
  {
   "cell_type": "code",
   "execution_count": 6,
   "metadata": {},
   "outputs": [
    {
     "data": {
      "text/plain": [
       "([0.0 0.0 … 0.0 0.0], [0.0 0.0 … 0.0 0.0], [0.0 0.0 … 0.0 0.0])"
      ]
     },
     "execution_count": 6,
     "metadata": {},
     "output_type": "execute_result"
    }
   ],
   "source": [
    "dF, dRV, BIS = simulation(structs;nper=10, comb=true)"
   ]
  },
  {
   "cell_type": "code",
   "execution_count": 5,
   "metadata": {},
   "outputs": [
    {
     "name": "stderr",
     "output_type": "stream",
     "text": [
      "┌ Info: Recompiling stale cache file /home/yangyangli/.julia/compiled/v1.2/PyPlot/oatAj.ji for PyPlot [d330b81b-6aea-500a-939a-2ce795aea3ee]\n",
      "└ @ Base loading.jl:1240\n",
      "┌ Warning: Module Conda with build ID 11633803457828 is missing from the cache.\n",
      "│ This may mean Conda [8f4d0f93-b110-5947-807f-2305c1781a2d] does not support precompilation but is imported by a module that does.\n",
      "└ @ Base loading.jl:1000\n",
      "┌ Warning: Module Conda with build ID 11633803457828 is missing from the cache.\n",
      "│ This may mean Conda [8f4d0f93-b110-5947-807f-2305c1781a2d] does not support precompilation but is imported by a module that does.\n",
      "└ @ Base loading.jl:1000\n",
      "┌ Info: Skipping precompilation since __precompile__(false). Importing PyPlot [d330b81b-6aea-500a-939a-2ce795aea3ee].\n",
      "└ @ Base loading.jl:1017\n",
      "┌ Info: Precompiling PyCall [438e738f-606a-5dbb-bf0a-cddfbfd45ab0]\n",
      "└ @ Base loading.jl:1242\n",
      "┌ Warning: Module Conda with build ID 11633803457828 is missing from the cache.\n",
      "│ This may mean Conda [8f4d0f93-b110-5947-807f-2305c1781a2d] does not support precompilation but is imported by a module that does.\n",
      "└ @ Base loading.jl:1000\n",
      "┌ Info: Skipping precompilation since __precompile__(false). Importing PyCall [438e738f-606a-5dbb-bf0a-cddfbfd45ab0].\n",
      "└ @ Base loading.jl:1017\n",
      "┌ Info: Recompiling stale cache file /home/yangyangli/.julia/compiled/v1.2/MacroTools/38lnR.ji for MacroTools [1914dd2f-81c6-5fcd-8719-6d5c9610ff09]\n",
      "└ @ Base loading.jl:1240\n"
     ]
    }
   ],
   "source": [
    "using PyPlot"
   ]
  },
  {
   "cell_type": "code",
   "execution_count": 10,
   "metadata": {},
   "outputs": [
    {
     "data": {
      "text/plain": [
       "10001-element Array{Float64,1}:\n",
       "   0.0    \n",
       "   0.02505\n",
       "   0.0501 \n",
       "   0.07515\n",
       "   0.1002 \n",
       "   0.12525\n",
       "   0.1503 \n",
       "   0.17535\n",
       "   0.2004 \n",
       "   0.22545\n",
       "   0.2505 \n",
       "   0.27555\n",
       "   0.3006 \n",
       "   ⋮      \n",
       " 250.22445\n",
       " 250.2495 \n",
       " 250.27455\n",
       " 250.2996 \n",
       " 250.32465\n",
       " 250.3497 \n",
       " 250.37475\n",
       " 250.3998 \n",
       " 250.42485\n",
       " 250.4499 \n",
       " 250.47495\n",
       " 250.5    "
      ]
     },
     "execution_count": 10,
     "metadata": {},
     "output_type": "execute_result"
    }
   ],
   "source": [
    "tmin = 0.0\n",
    "tmax = 25.05 * 10\n",
    "t = Array(tmin:25.05/1000:tmax)"
   ]
  },
  {
   "cell_type": "code",
   "execution_count": 9,
   "metadata": {},
   "outputs": [
    {
     "data": {
      "text/plain": [
       "10001-element Array{Float64,1}:\n",
       " 0.0\n",
       " 0.0\n",
       " 0.0\n",
       " 0.0\n",
       " 0.0\n",
       " 0.0\n",
       " 0.0\n",
       " 0.0\n",
       " 0.0\n",
       " 0.0\n",
       " 0.0\n",
       " 0.0\n",
       " 0.0\n",
       " ⋮  \n",
       " 0.0\n",
       " 0.0\n",
       " 0.0\n",
       " 0.0\n",
       " 0.0\n",
       " 0.0\n",
       " 0.0\n",
       " 0.0\n",
       " 0.0\n",
       " 0.0\n",
       " 0.0\n",
       " 0.0"
      ]
     },
     "execution_count": 9,
     "metadata": {},
     "output_type": "execute_result"
    }
   ],
   "source": [
    "vec(dF)"
   ]
  },
  {
   "cell_type": "code",
   "execution_count": 11,
   "metadata": {},
   "outputs": [
    {
     "name": "stderr",
     "output_type": "stream",
     "text": [
      "┌ Warning: `getindex(o::PyObject, s::Symbol)` is deprecated in favor of dot overloading (`getproperty`) so elements should now be accessed as e.g. `o.s` instead of `o[:s]`.\n",
      "│   caller = top-level scope at In[11]:3\n",
      "└ @ Core In[11]:3\n",
      "┌ Warning: `getindex(o::PyObject, s::Symbol)` is deprecated in favor of dot overloading (`getproperty`) so elements should now be accessed as e.g. `o.s` instead of `o[:s]`.\n",
      "│   caller = top-level scope at In[11]:5\n",
      "└ @ Core In[11]:5\n"
     ]
    },
    {
     "data": {
      "text/plain": [
       "PyObject Text(0.5, 23.52222222222222, 'time')"
      ]
     },
     "execution_count": 11,
     "metadata": {},
     "output_type": "execute_result"
    }
   ],
   "source": [
    "pygui(true)\n",
    "fig, ax = subplots(2,1, sharex = true)\n",
    "ax[1,1][:plot](t, transpose(dF))\n",
    "ax[1,1].set_ylabel(\"dF\")\n",
    "ax[2,1][:plot](t, transpose(dRV))\n",
    "ax[2,1].set_ylabel(\"dRV\")\n",
    "ax[2,1].set_xlabel(\"time\")"
   ]
  },
  {
   "cell_type": "markdown",
   "metadata": {},
   "source": [
    "## one spot \n",
    "❌ spots evolution <br>\n",
    "❌ facula <br>\n",
    "✅ convection: Q=5, vconv=200m/s <br>"
   ]
  },
  {
   "cell_type": "code",
   "execution_count": 14,
   "metadata": {},
   "outputs": [
    {
     "data": {
      "text/plain": [
       "Jspot.RotationSpot(1, 1.0, Number[25.05], Number[0.6], Number[0.2], 200.0, Number[0.0], [0.01], [1.0], [0.0], Number[0.4800413148613629], Number[1.5707963267948966], Number[0.0], Number[5.0])"
      ]
     },
     "execution_count": 14,
     "metadata": {},
     "output_type": "execute_result"
    }
   ],
   "source": [
    "structs = conf_spotmodel(\"../test/samples/onespot_noevo_nofac_conv.ini\")"
   ]
  },
  {
   "cell_type": "code",
   "execution_count": 15,
   "metadata": {},
   "outputs": [
    {
     "data": {
      "text/plain": [
       "([-0.7684287819410043 -0.7674995811258467 … -0.7693427437187617 -0.7684287819410052], [-50.71280888553497 -61.703790625696 … -39.69227471430327 -50.71280888552553], [-44.98103644661264 -54.549648299121216 … -35.32056721313985 -44.9810364466044])"
      ]
     },
     "execution_count": 15,
     "metadata": {},
     "output_type": "execute_result"
    }
   ],
   "source": [
    "dF, dRV, BIS = simulation(structs;nper=10, comb=true)"
   ]
  },
  {
   "cell_type": "code",
   "execution_count": 16,
   "metadata": {},
   "outputs": [
    {
     "name": "stderr",
     "output_type": "stream",
     "text": [
      "┌ Warning: `getindex(o::PyObject, s::Symbol)` is deprecated in favor of dot overloading (`getproperty`) so elements should now be accessed as e.g. `o.s` instead of `o[:s]`.\n",
      "│   caller = top-level scope at In[16]:2\n",
      "└ @ Core In[16]:2\n",
      "┌ Warning: `getindex(o::PyObject, s::Symbol)` is deprecated in favor of dot overloading (`getproperty`) so elements should now be accessed as e.g. `o.s` instead of `o[:s]`.\n",
      "│   caller = top-level scope at In[16]:4\n",
      "└ @ Core In[16]:4\n"
     ]
    },
    {
     "data": {
      "text/plain": [
       "PyObject Text(0.5, 23.52222222222222, 'time')"
      ]
     },
     "execution_count": 16,
     "metadata": {},
     "output_type": "execute_result"
    }
   ],
   "source": [
    "fig, ax = subplots(2,1, sharex = true)\n",
    "ax[1,1][:plot](t, transpose(dF))\n",
    "ax[1,1].set_ylabel(\"dF\")\n",
    "ax[2,1][:plot](t, transpose(dRV))\n",
    "ax[2,1].set_ylabel(\"dRV\")\n",
    "ax[2,1].set_xlabel(\"time\")"
   ]
  },
  {
   "cell_type": "markdown",
   "metadata": {},
   "source": [
    "## one spot (need to analyse if fac happens around spots)\n",
    "❌ spots evolution <br>\n",
    "✅ facula: cfac=2 <br>\n",
    "✅ convection: Q=5, vconv=200m/s <br>"
   ]
  },
  {
   "cell_type": "code",
   "execution_count": 10,
   "metadata": {},
   "outputs": [
    {
     "data": {
      "text/plain": [
       "Jspot.RotationSpot(1, 1.0, Number[25.05], Number[0.6], Number[0.2], 200.0, Number[2.0], [0.01], [1.0], [0.0], Number[3.4822860255789596], Number[1.5707963267948966], Number[0.0], Number[5.0])"
      ]
     },
     "execution_count": 10,
     "metadata": {},
     "output_type": "execute_result"
    }
   ],
   "source": [
    "structs = conf_spotmodel(\"../Jspot/test/samples/onespot_noevo_fac_conv.ini\")"
   ]
  },
  {
   "cell_type": "code",
   "execution_count": 11,
   "metadata": {},
   "outputs": [
    {
     "data": {
      "text/plain": [
       "([0.0 0.0 … 0.0 0.0], [0.0 0.0 … 0.0 0.0], [0.0 0.0 … 0.0 0.0])"
      ]
     },
     "execution_count": 11,
     "metadata": {},
     "output_type": "execute_result"
    }
   ],
   "source": [
    "dF, dRV, BIS = simulation(structs;nper=10, comb=true)"
   ]
  },
  {
   "cell_type": "code",
   "execution_count": 12,
   "metadata": {},
   "outputs": [
    {
     "data": {
      "image/png": "[encoded data removed]",
      "text/plain": [
       "Figure(PyObject <Figure size 640x480 with 2 Axes>)"
      ]
     },
     "metadata": {},
     "output_type": "display_data"
    },
    {
     "name": "stderr",
     "output_type": "stream",
     "text": [
      "┌ Warning: `getindex(o::PyObject, s::Symbol)` is deprecated in favor of dot overloading (`getproperty`) so elements should now be accessed as e.g. `o.s` instead of `o[:s]`.\n",
      "│   caller = top-level scope at In[12]:2\n",
      "└ @ Core In[12]:2\n",
      "┌ Warning: `getindex(o::PyObject, s::Symbol)` is deprecated in favor of dot overloading (`getproperty`) so elements should now be accessed as e.g. `o.s` instead of `o[:s]`.\n",
      "│   caller = top-level scope at In[12]:4\n",
      "└ @ Core In[12]:4\n"
     ]
    },
    {
     "data": {
      "text/plain": [
       "PyObject Text(0.5, 24.0, 'time')"
      ]
     },
     "execution_count": 12,
     "metadata": {},
     "output_type": "execute_result"
    }
   ],
   "source": [
    "fig, ax = subplots(2,1, sharex = true)\n",
    "ax[1,1][:plot](t, transpose(dF))\n",
    "ax[1,1].set_ylabel(\"dF\")\n",
    "ax[2,1][:plot](t, transpose(dRV))\n",
    "ax[2,1].set_ylabel(\"dRV\")\n",
    "ax[2,1].set_xlabel(\"time\")"
   ]
  },
  {
   "cell_type": "markdown",
   "metadata": {},
   "source": [
    "## one spot \n",
    "✅ spots evolution: diagram: init_lat = 40, cycle=2yrs; differential_rate = 0.185  <br>\n",
    "❌ facula <br>\n",
    "✅ convection: Q=5, vconv=200m/s <br>"
   ]
  },
  {
   "cell_type": "code",
   "execution_count": 29,
   "metadata": {},
   "outputs": [
    {
     "data": {
      "text/plain": [
       "3-element Array{Any,1}:\n",
       " Jspot.RotationSpot(1, 1.0, Number[25.05], Number[0.6], Number[0.2], 200.0, Number[0.0], [0.01], [1.0], [25.05], Number[6.006610103158589], Number[1.5707963267948966], Number[0.0], Number[10.0])\n",
       " Jspot.Diagram(0.0, 2.0, 40.0)                                                                                                                                                                    \n",
       " Jspot.Differential(0.25082576076565216, 0.185)                                                                                                                                                   "
      ]
     },
     "execution_count": 29,
     "metadata": {},
     "output_type": "execute_result"
    }
   ],
   "source": [
    "structs = conf_spotmodel(\"../test/samples/onespot_evo_nofac_conv.ini\")"
   ]
  },
  {
   "cell_type": "code",
   "execution_count": 52,
   "metadata": {},
   "outputs": [
    {
     "data": {
      "text/plain": [
       "1-element Array{Float64,1}:\n",
       " 31.402195701979"
      ]
     },
     "execution_count": 52,
     "metadata": {},
     "output_type": "execute_result"
    }
   ],
   "source": [
    "using Distributions\n",
    "25.05 .* 2.72 .^ abs.(rand(Normal(0, 0.5), 1))"
   ]
  },
  {
   "cell_type": "code",
   "execution_count": 24,
   "metadata": {},
   "outputs": [
    {
     "data": {
      "text/plain": [
       "([0.0 0.0 … 0.0 0.0], [0.0 0.0 … 0.0 0.0], [0.0 0.0 … 0.0 0.0])"
      ]
     },
     "execution_count": 24,
     "metadata": {},
     "output_type": "execute_result"
    }
   ],
   "source": [
    "dF, dRV, BIS = simulation(structs[1], structs[2], structs[3];nper=10, comb=true)"
   ]
  },
  {
   "cell_type": "code",
   "execution_count": 25,
   "metadata": {},
   "outputs": [
    {
     "name": "stderr",
     "output_type": "stream",
     "text": [
      "┌ Warning: `getindex(o::PyObject, s::Symbol)` is deprecated in favor of dot overloading (`getproperty`) so elements should now be accessed as e.g. `o.s` instead of `o[:s]`.\n",
      "│   caller = top-level scope at In[25]:2\n",
      "└ @ Core In[25]:2\n",
      "┌ Warning: `getindex(o::PyObject, s::Symbol)` is deprecated in favor of dot overloading (`getproperty`) so elements should now be accessed as e.g. `o.s` instead of `o[:s]`.\n",
      "│   caller = top-level scope at In[25]:4\n",
      "└ @ Core In[25]:4\n"
     ]
    },
    {
     "data": {
      "text/plain": [
       "PyObject Text(0.5, 23.52222222222222, 'time')"
      ]
     },
     "execution_count": 25,
     "metadata": {},
     "output_type": "execute_result"
    }
   ],
   "source": [
    "fig, ax = subplots(2,1, sharex = true)\n",
    "ax[1,1][:plot](t, transpose(dF))\n",
    "ax[1,1].set_ylabel(\"dF\")\n",
    "ax[2,1][:plot](t, transpose(dRV))\n",
    "ax[2,1].set_ylabel(\"dRV\")\n",
    "ax[2,1].set_xlabel(\"time\")"
   ]
  },
  {
   "cell_type": "markdown",
   "metadata": {},
   "source": [
    "spot decays away"
   ]
  },
  {
   "cell_type": "markdown",
   "metadata": {},
   "source": [
    "# multispots sessions (nspots=100)"
   ]
  },
  {
   "cell_type": "code",
   "execution_count": null,
   "metadata": {},
   "outputs": [],
   "source": [
    "✅ spots evolution: diagram: init_lat = 40, cycle=2yrs; differential_rate = 0.185  <br>\n",
    "❌ facula <br>\n",
    "✅ convection: Q=5, vconv=200m/s <br>"
   ]
  },
  {
   "cell_type": "code",
   "execution_count": 4,
   "metadata": {},
   "outputs": [
    {
     "data": {
      "text/plain": [
       "3-element Array{Any,1}:\n",
       " Jspot.RotationSpot(100, 1.0, Number[25.05, 25.05, 25.05, 25.05, 25.05, 25.05, 25.05, 25.05, 25.05, 25.05  …  25.05, 25.05, 25.05, 25.05, 25.05, 25.05, 25.05, 25.05, 25.05, 25.05], Number[0.6, 0.6, 0.6, 0.6, 0.6, 0.6, 0.6, 0.6, 0.6, 0.6  …  0.6, 0.6, 0.6, 0.6, 0.6, 0.6, 0.6, 0.6, 0.6, 0.6], Number[0.2, 0.2, 0.2, 0.2, 0.2, 0.2, 0.2, 0.2, 0.2, 0.2  …  0.2, 0.2, 0.2, 0.2, 0.2, 0.2, 0.2, 0.2, 0.2, 0.2], 200.0, Number[0.0, 0.0, 0.0, 0.0, 0.0, 0.0, 0.0, 0.0, 0.0, 0.0  …  0.0, 0.0, 0.0, 0.0, 0.0, 0.0, 0.0, 0.0, 0.0, 0.0], [0.01, 0.01, 0.01, 0.01, 0.01, 0.01, 0.01, 0.01, 0.01, 0.01  …  0.01, 0.01, 0.01, 0.01, 0.01, 0.01, 0.01, 0.01, 0.01, 0.01], [1.0, 1.0, 1.0, 1.0, 1.0, 1.0, 1.0, 1.0, 1.0, 1.0  …  1.0, 1.0, 1.0, 1.0, 1.0, 1.0, 1.0, 1.0, 1.0, 1.0], [25.05, 25.05, 25.05, 25.05, 25.05, 25.05, 25.05, 25.05, 25.05, 25.05  …  25.05, 25.05, 25.05, 25.05, 25.05, 25.05, 25.05, 25.05, 25.05, 25.05], Number[1.1112772135759592, 2.222917322834883, 5.992665986430781, 5.092968112598815, 5.195283473740308, 2.3504862437131653, 5.962565733406083, 5.005456162834512, 3.2553463033770975, 3.2288984551640048  …  3.6619696940887585, 3.979649003011777, 1.994108840914652, 4.687817109970039, 1.4127452089037582, 2.989432048674889, 0.7210665964773461, 6.049131511664844, 2.458154990535311, 5.628433734663961], Number[1.5707963267948966, 1.5707963267948966, 1.5707963267948966, 1.5707963267948966, 1.5707963267948966, 1.5707963267948966, 1.5707963267948966, 1.5707963267948966, 1.5707963267948966, 1.5707963267948966  …  1.5707963267948966, 1.5707963267948966, 1.5707963267948966, 1.5707963267948966, 1.5707963267948966, 1.5707963267948966, 1.5707963267948966, 1.5707963267948966, 1.5707963267948966, 1.5707963267948966], Number[0.0, 0.0, 0.0, 0.0, 0.0, 0.0, 0.0, 0.0, 0.0, 0.0  …  0.0, 0.0, 0.0, 0.0, 0.0, 0.0, 0.0, 0.0, 0.0, 0.0], Number[10.0, 10.0, 10.0, 10.0, 10.0, 10.0, 10.0, 10.0, 10.0, 10.0  …  10.0, 10.0, 10.0, 10.0, 10.0, 10.0, 10.0, 10.0, 10.0, 10.0])\n",
       " Jspot.Diagram(0.0, 80.0, 40.0)                                                                                                                                                                                                                                                                                                                                                                                                                                                                                                                                                                                                                                                                                                                                                                                                                                                                                                                                                                                                                                                                                                                                                                                                                                                                                                                                                                                                                                                                                                                                                                                                                                                                                                                                                                                                                                                                                                                                                                                           \n",
       " Jspot.Differential(0.25082576076565216, 0.185)                                                                                                                                                                                                                                                                                                                                                                                                                                                                                                                                                                                                                                                                                                                                                                                                                                                                                                                                                                                                                                                                                                                                                                                                                                                                                                                                                                                                                                                                                                                                                                                                                                                                                                                                                                                                                                                                                                                                                                           "
      ]
     },
     "execution_count": 4,
     "metadata": {},
     "output_type": "execute_result"
    }
   ],
   "source": [
    "structs = conf_spotmodel(\"../test/samples/multispots_evo_nofac_conv.ini\")"
   ]
  },
  {
   "cell_type": "code",
   "execution_count": 5,
   "metadata": {},
   "outputs": [
    {
     "data": {
      "text/plain": [
       "([0.0 0.0 … 0.0 0.0], [0.0 0.0 … 0.0 0.0], [0.0 0.0 … 0.0 0.0])"
      ]
     },
     "execution_count": 5,
     "metadata": {},
     "output_type": "execute_result"
    }
   ],
   "source": [
    "dF, dRV, BIS = simulation(structs[1], structs[2], structs[3];nper=10, comb=true)"
   ]
  },
  {
   "cell_type": "code",
   "execution_count": 6,
   "metadata": {},
   "outputs": [
    {
     "name": "stderr",
     "output_type": "stream",
     "text": [
      "┌ Warning: `getindex(o::PyObject, s::Symbol)` is deprecated in favor of dot overloading (`getproperty`) so elements should now be accessed as e.g. `o.s` instead of `o[:s]`.\n",
      "│   caller = top-level scope at In[6]:2\n",
      "└ @ Core In[6]:2\n",
      "┌ Warning: `getindex(o::PyObject, s::Symbol)` is deprecated in favor of dot overloading (`getproperty`) so elements should now be accessed as e.g. `o.s` instead of `o[:s]`.\n",
      "│   caller = top-level scope at In[6]:4\n",
      "└ @ Core In[6]:4\n"
     ]
    },
    {
     "data": {
      "image/png": "[encoded data removed]",
      "text/plain": [
       "Figure(PyObject <Figure size 640x480 with 2 Axes>)"
      ]
     },
     "metadata": {},
     "output_type": "display_data"
    },
    {
     "data": {
      "text/plain": [
       "PyObject Text(0.5, 24.0, 'time')"
      ]
     },
     "execution_count": 6,
     "metadata": {},
     "output_type": "execute_result"
    }
   ],
   "source": [
    "fig, ax = subplots(2,1, sharex = true)\n",
    "ax[1,1][:plot](t, transpose(dF))\n",
    "ax[1,1].set_ylabel(\"dF\")\n",
    "ax[2,1][:plot](t, transpose(dRV))\n",
    "ax[2,1].set_ylabel(\"dRV\")\n",
    "ax[2,1].set_xlabel(\"time\")"
   ]
  },
  {
   "cell_type": "markdown",
   "metadata": {},
   "source": [
    "# Group creation with the magnetic cycle (Dumusque et al. 2011c) (multispots)"
   ]
  },
  {
   "cell_type": "markdown",
   "metadata": {},
   "source": [
    " form in group (same property, geometrical and lifetime): <br>\n",
    "✅the appearance of spot group is relavant with the magnetic cycle <br>\n",
    "✅the filling factors of spots are strictly linear with their lifetime <br>\n",
    "✅spots linearly grow and die down <br>\n",
    "✅differential rotation <br>"
   ]
  },
  {
   "cell_type": "code",
   "execution_count": 25,
   "metadata": {},
   "outputs": [
    {
     "data": {
      "text/plain": [
       "2-element Array{Any,1}:\n",
       " Jspot.RotationSpot(150, 1.0, Number[25.05, 25.05, 25.05, 25.05, 25.05, 25.05, 25.05, 25.05, 25.05, 25.05  …  25.05, 25.05, 25.05, 25.05, 25.05, 25.05, 25.05, 25.05, 25.05, 25.05], Number[0.6, 0.6, 0.6, 0.6, 0.6, 0.6, 0.6, 0.6, 0.6, 0.6  …  0.6, 0.6, 0.6, 0.6, 0.6, 0.6, 0.6, 0.6, 0.6, 0.6], Number[0.2, 0.2, 0.2, 0.2, 0.2, 0.2, 0.2, 0.2, 0.2, 0.2  …  0.2, 0.2, 0.2, 0.2, 0.2, 0.2, 0.2, 0.2, 0.2, 0.2], 300.0, Number[5.0, 5.0, 5.0, 5.0, 5.0, 5.0, 5.0, 5.0, 5.0, 5.0  …  5.0, 5.0, 5.0, 5.0, 5.0, 5.0, 5.0, 5.0, 5.0, 5.0], [6.929962937670019e-5, 0.0005949956674248592, 0.00018608527052865065, 0.005302881550206771, 9.48873739515198e-5, 0.003463376418959703, 0.00012800926539025857, 0.0008536201742616843, 0.00010509007072994307, 0.000280605841241996  …  0.00019013423615714433, 0.0006972191144463208, 0.002087376401566128, 0.00038241982708035906, 0.00030710045611932117, 9.094347452117523e-5, 0.00015806732862553433, 0.00011754144574013353, 2.38080525220317e-5, 0.0008978528986259278], [0.2309987645890006, 1.983318891416197, 0.620284235095502, 17.676271834022568, 0.399591246505066, 11.961088063199009, 0.9264975513008618, 3.5118005808722805, 1.266600235766477, 2.184852804139987  …  7514.793580791668, 7516.7337637192995, 7521.367621343033, 7515.934332761413, 7515.683268191544, 7515.04604491955, 7515.436391099898, 7515.384604823614, 7515.072160179554, 7517.9856429999], [0.6929962937670018, 5.949956674248591, 1.8608527052865063, 53.02881550206771, 0.948873739515198, 34.63376418959703, 1.2800926539025856, 8.536201742616843, 1.0509007072994307, 2.8060584124199597  …  1.9013423615714433, 6.972191144463208, 20.87376401566128, 3.82419827080359, 3.0710045611932113, 0.9094347452117523, 1.5806732862553432, 1.1754144574013352, 0.23808052522031697, 8.978528986259278], Number[0.2672348334257973, 4.846475168149695, 4.597759159136283, 5.077886872828697, 4.30113077489066, 1.5989237962126468, 1.5371201785940372, 3.0878566336572324, 4.579285171220526, 4.4785568860176115  …  0.31859829356009967, 5.0524963518216985, 0.08200805383319142, 0.14475218120067854, 4.741152760625747, -0.5530376035540316, 1.698320848484051, 4.35854231963209, 5.1824301772774355, 4.429739034372476], Number[1.5707963267948966, 1.5707963267948966, 1.5707963267948966, 1.5707963267948966, 1.5707963267948966, 1.5707963267948966, 1.5707963267948966, 1.5707963267948966, 1.5707963267948966, 1.5707963267948966  …  1.5707963267948966, 1.5707963267948966, 1.5707963267948966, 1.5707963267948966, 1.5707963267948966, 1.5707963267948966, 1.5707963267948966, 1.5707963267948966, 1.5707963267948966, 1.5707963267948966], Number[0.38543986913590117, -0.35118643484796774, -0.37799381705432317, -0.42762687897048796, -0.357610819850623, -0.2136366477604669, -0.317975187677264, 0.334264094753528, -0.28387505944696984, -0.29099783565462156  …  0.43207311284725763, -0.414876093181521, 0.47350194283340974, 0.4821524157469577, -0.3946269727241514, 0.45131099151040305, -0.4943576676082954, -0.48492640016239486, -0.4862334998809192, -0.42824404486988], Number[20.0, 20.0, 20.0, 20.0, 20.0, 20.0, 20.0, 20.0, 20.0, 20.0  …  20.0, 20.0, 20.0, 20.0, 20.0, 20.0, 20.0, 20.0, 20.0, 20.0])\n",
       " Jspot.Differential(0.25082576076565216, 0.185)                                                                                                                                                                                                                                                                                                                                                                                                                                                                                                                                                                                                                                                                                                                                                                                                                                                                                                                                                                                                                                                                                                                                                                                                                                                                                                                                                                                                                                                                                                                                                                                                                                                                                                                                                                                                                                                                                                                                                                                                                                                                                                                                                                                                                                                                                                                                                                                                                                                                                                                                                                                                                                                                                                                                                                                                                                                                                                                                                                                                                                                                                                                                                                                                                       "
      ]
     },
     "execution_count": 25,
     "metadata": {},
     "output_type": "execute_result"
    }
   ],
   "source": [
    "structs = conf_spotmodel(\"../test/samples/sun.ini\", t)"
   ]
  },
  {
   "cell_type": "code",
   "execution_count": 26,
   "metadata": {},
   "outputs": [
    {
     "data": {
      "text/plain": [
       "([0.0 7.699130204018909e-5 … 0.001996481444992328 0.0015030147926863673], [0.0 0.476246117528855 … 8.01917634916017 5.8662733905232205], [0.0 0.41717204318019346 … 5.415326293112806 5.024121379320079])"
      ]
     },
     "execution_count": 26,
     "metadata": {},
     "output_type": "execute_result"
    }
   ],
   "source": [
    "dF, dRV, BIS = simulation(structs[1], structs[2], t;comb=true)"
   ]
  },
  {
   "cell_type": "code",
   "execution_count": 37,
   "metadata": {
    "scrolled": true
   },
   "outputs": [
    {
     "name": "stderr",
     "output_type": "stream",
     "text": [
      "┌ Warning: `getindex(o::PyObject, s::Symbol)` is deprecated in favor of dot overloading (`getproperty`) so elements should now be accessed as e.g. `o.s` instead of `o[:s]`.\n",
      "│   caller = top-level scope at In[37]:3\n",
      "└ @ Core In[37]:3\n",
      "┌ Warning: `getindex(o::PyObject, s::Symbol)` is deprecated in favor of dot overloading (`getproperty`) so elements should now be accessed as e.g. `o.s` instead of `o[:s]`.\n",
      "│   caller = top-level scope at In[37]:5\n",
      "└ @ Core In[37]:5\n"
     ]
    },
    {
     "data": {
      "text/plain": [
       "PyObject Text(0.5, 23.52222222222222, 'time')"
      ]
     },
     "execution_count": 37,
     "metadata": {},
     "output_type": "execute_result"
    }
   ],
   "source": [
    "pygui(true)\n",
    "fig, ax = subplots(2,1, sharex = true)\n",
    "ax[1,1][:plot](t, transpose(dF))\n",
    "ax[1,1].set_ylabel(\"dF\")\n",
    "ax[2,1][:plot](t, transpose(dRV))\n",
    "ax[2,1].set_ylabel(\"dRV\")\n",
    "ax[2,1].set_xlabel(\"time\")"
   ]
  },
  {
   "cell_type": "code",
   "execution_count": 34,
   "metadata": {},
   "outputs": [],
   "source": [
    "fig.savefig(\"sun.png\")"
   ]
  },
  {
   "cell_type": "code",
   "execution_count": 18,
   "metadata": {},
   "outputs": [
    {
     "data": {
      "text/plain": [
       "12776-element Array{Number,1}:\n",
       " 25.269588656969116\n",
       " 25.4377217460955  \n",
       " 25.52026129144462 \n",
       " 25.304029081578097\n",
       " 25.31359988717506 \n",
       " 25.44216809802837 \n",
       " 25.374383692631675\n",
       " 25.57226308535424 \n",
       " 25.461160850164866\n",
       " 25.357874966880136\n",
       " 25.504181643676745\n",
       " 25.321446238432227\n",
       " 25.498174048113015\n",
       "  ⋮                \n",
       " 25.20365919147464 \n",
       " 25.145609793540576\n",
       " 25.179353921727913\n",
       " 25.05928985095383 \n",
       " 25.059348503880152\n",
       " 25.07310669539561 \n",
       " 25.100420872387947\n",
       " 25.120993236178123\n",
       " 25.10869227014815 \n",
       " 25.085478689187205\n",
       " 25.17356823807858 \n",
       " 25.129845511772494"
      ]
     },
     "execution_count": 18,
     "metadata": {},
     "output_type": "execute_result"
    }
   ],
   "source": [
    "structs[1].period"
   ]
  },
  {
   "cell_type": "code",
   "execution_count": 19,
   "metadata": {},
   "outputs": [
    {
     "data": {
      "text/plain": [
       "12776-element Array{Float64,1}:\n",
       " 0.0052585219534684036 \n",
       " 2.2249049585793184e-5 \n",
       " 0.0009334375435854574 \n",
       " 2.6894253070526842e-5 \n",
       " 0.0001004677358120139 \n",
       " 9.060139036938797e-5  \n",
       " 4.941720357028249e-5  \n",
       " 0.0006315992585676764 \n",
       " 0.00011137709358926287\n",
       " 0.00011556746184299617\n",
       " 0.0007375188938117899 \n",
       " 0.00010574674682158352\n",
       " 0.000804439356138705  \n",
       " ⋮                     \n",
       " 0.0001602113028299416 \n",
       " 0.0005313622178066638 \n",
       " 0.00018200737544281966\n",
       " 0.0006715826107237933 \n",
       " 0.002182896124169115  \n",
       " 0.0001521858567992617 \n",
       " 8.017122556610995e-5  \n",
       " 0.0006765706237172586 \n",
       " 0.0004922293116476234 \n",
       " 0.0001444543262828302 \n",
       " 0.001086244882458589  \n",
       " 0.0001301095190500749 "
      ]
     },
     "execution_count": 19,
     "metadata": {},
     "output_type": "execute_result"
    }
   ],
   "source": [
    "structs[1].amax"
   ]
  },
  {
   "cell_type": "code",
   "execution_count": 20,
   "metadata": {},
   "outputs": [
    {
     "data": {
      "text/plain": [
       "area (generic function with 1 method)"
      ]
     },
     "execution_count": 20,
     "metadata": {},
     "output_type": "execute_result"
    }
   ],
   "source": [
    "function area(pk::Float64, amax::Float64, lifetime::Float64, t::Array{Float64,1})\n",
    "    area = ones(size(t)[1]) .* amax\n",
    "    tt = t .- pk\n",
    "    l = tt .< 0\n",
    "    area[l] .*= (3 * amax / lifetime) .* tt[l] .+ amax\n",
    "    l = tt .>= 0\n",
    "    area[l] .*= (-3 / 2 * amax / lifetime) .* tt[l] .+ amax\n",
    "    l = area .< 0\n",
    "    area[l] .= 0\n",
    "    return area\n",
    "end"
   ]
  },
  {
   "cell_type": "code",
   "execution_count": 28,
   "metadata": {},
   "outputs": [],
   "source": [
    "amaxtot = zeros(length(t))\n",
    "for i in 1:1:length(structs[1].amax)\n",
    "    amaxtot .+= area(structs[1].pk[i], structs[1].amax[i], structs[1].decay[i], t)\n",
    "end"
   ]
  },
  {
   "cell_type": "code",
   "execution_count": 35,
   "metadata": {},
   "outputs": [
    {
     "name": "stderr",
     "output_type": "stream",
     "text": [
      "┌ Warning: `getindex(o::PyObject, s::Symbol)` is deprecated in favor of dot overloading (`getproperty`) so elements should now be accessed as e.g. `o.s` instead of `o[:s]`.\n",
      "│   caller = top-level scope at In[35]:2\n",
      "└ @ Core In[35]:2\n",
      "┌ Warning: `getindex(o::PyObject, s::Symbol)` is deprecated in favor of dot overloading (`getproperty`) so elements should now be accessed as e.g. `o.s` instead of `o[:s]`.\n",
      "│   caller = top-level scope at In[35]:4\n",
      "└ @ Core In[35]:4\n"
     ]
    },
    {
     "data": {
      "text/plain": [
       "PyObject Text(0.5, 23.52222222222222, 'time')"
      ]
     },
     "execution_count": 35,
     "metadata": {},
     "output_type": "execute_result"
    }
   ],
   "source": [
    "fig, ax = subplots(2,1, sharex = true)\n",
    "ax[1,1][:plot](t, amaxtot) \n",
    "ax[1,1].set_ylabel(\"filling_factor\")\n",
    "ax[2,1][:scatter](structs[1].pk, structs[1].lat, marker=\".\")\n",
    "ax[2,1].set_ylabel(\"initial_lat\")\n",
    "ax[2,1].set_xlabel(\"time\")"
   ]
  },
  {
   "cell_type": "code",
   "execution_count": 36,
   "metadata": {},
   "outputs": [],
   "source": [
    "fig.savefig(\"sun_evolution_pattern.png\")"
   ]
  },
  {
   "cell_type": "code",
   "execution_count": null,
   "metadata": {},
   "outputs": [],
   "source": []
  }
 ],
 "metadata": {
  "kernelspec": {
   "display_name": "Julia 1.2.0",
   "language": "julia",
   "name": "julia-1.2"
  },
  "language_info": {
   "file_extension": ".jl",
   "mimetype": "application/julia",
   "name": "julia",
   "version": "1.2.0"
  }
 },
 "nbformat": 4,
 "nbformat_minor": 2
}
